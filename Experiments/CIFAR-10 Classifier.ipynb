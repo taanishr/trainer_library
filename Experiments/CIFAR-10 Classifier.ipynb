{
 "cells": [
  {
   "cell_type": "code",
   "execution_count": 1,
   "metadata": {},
   "outputs": [],
   "source": [
    "import os"
   ]
  },
  {
   "cell_type": "code",
   "execution_count": 2,
   "metadata": {},
   "outputs": [],
   "source": [
    "os.environ['JAX_PLATFORMS'] = 'cpu'"
   ]
  },
  {
   "cell_type": "code",
   "execution_count": 3,
   "metadata": {},
   "outputs": [],
   "source": [
    "import sys"
   ]
  },
  {
   "cell_type": "code",
   "execution_count": 4,
   "metadata": {},
   "outputs": [],
   "source": [
    "sys.path.append('../')"
   ]
  },
  {
   "cell_type": "code",
   "execution_count": 5,
   "metadata": {},
   "outputs": [],
   "source": [
    "import classifier"
   ]
  },
  {
   "cell_type": "code",
   "execution_count": 6,
   "metadata": {},
   "outputs": [],
   "source": [
    "from torchvision import datasets, transforms"
   ]
  },
  {
   "cell_type": "code",
   "execution_count": 7,
   "metadata": {},
   "outputs": [],
   "source": [
    "import numpy as np\n",
    "import scipy.integrate as integrate\n",
    "from scipy.optimize import fsolve\n",
    "import scipy\n",
    "from scipy.spatial.distance import cdist\n",
    "from sklearn.decomposition import PCA\n",
    "from sklearn import manifold\n",
    "from sklearn import svm\n",
    "import scipy.misc\n",
    "\n",
    "import graphlearning as gl\n",
    "\n",
    "import matplotlib.pyplot as plt"
   ]
  },
  {
   "cell_type": "code",
   "execution_count": 8,
   "metadata": {},
   "outputs": [],
   "source": [
    "import jax\n",
    "import jax.numpy as jnp\n"
   ]
  },
  {
   "cell_type": "code",
   "execution_count": 9,
   "metadata": {},
   "outputs": [
    {
     "name": "stdout",
     "output_type": "stream",
     "text": [
      "[CpuDevice(id=0)]\n"
     ]
    }
   ],
   "source": [
    "print(jax.devices()) "
   ]
  },
  {
   "cell_type": "code",
   "execution_count": 11,
   "metadata": {},
   "outputs": [],
   "source": [
    "fmnist = datasets.CIFAR10(\"/home/taanish/CIFAR10\", train=True, download=False)"
   ]
  },
  {
   "cell_type": "code",
   "execution_count": 12,
   "metadata": {},
   "outputs": [],
   "source": [
    "X = fmnist.data"
   ]
  },
  {
   "cell_type": "code",
   "execution_count": 15,
   "metadata": {},
   "outputs": [],
   "source": [
    "# X_10k = X[:10000,:32,:32]"
   ]
  },
  {
   "cell_type": "code",
   "execution_count": 35,
   "metadata": {},
   "outputs": [
    {
     "data": {
      "text/plain": [
       "(3072,)"
      ]
     },
     "execution_count": 35,
     "metadata": {},
     "output_type": "execute_result"
    }
   ],
   "source": [
    "# X_10k[1].shape"
   ]
  },
  {
   "cell_type": "code",
   "execution_count": 16,
   "metadata": {},
   "outputs": [],
   "source": [
    "X = np.reshape(X, (50000, 3072))"
   ]
  },
  {
   "cell_type": "code",
   "execution_count": 25,
   "metadata": {},
   "outputs": [
    {
     "data": {
      "text/plain": [
       "array([105, 155, 204, ...,  84, 160, 196], dtype=uint8)"
      ]
     },
     "execution_count": 25,
     "metadata": {},
     "output_type": "execute_result"
    }
   ],
   "source": [
    "X_10k[200]"
   ]
  },
  {
   "cell_type": "code",
   "execution_count": 30,
   "metadata": {},
   "outputs": [],
   "source": [
    "labels_10k = np.array(fmnist.targets[:10000])"
   ]
  },
  {
   "cell_type": "code",
   "execution_count": 32,
   "metadata": {},
   "outputs": [],
   "source": [
    "cl = classifier.ClassificationTests(X_10k, labels_10k, 1000, 10000)"
   ]
  },
  {
   "cell_type": "code",
   "execution_count": 33,
   "metadata": {},
   "outputs": [
    {
     "name": "stderr",
     "output_type": "stream",
     "text": [
      "/home/taanish/.conda/envs/manifold-learning/lib/python3.12/site-packages/sklearn/svm/_classes.py:31: FutureWarning: The default value of `dual` will change from `True` to `'auto'` in 1.5. Set the value of `dual` explicitly to suppress the warning.\n",
      "  warnings.warn(\n"
     ]
    },
    {
     "name": "stdout",
     "output_type": "stream",
     "text": [
      "Completed trial 0\n"
     ]
    },
    {
     "name": "stderr",
     "output_type": "stream",
     "text": [
      "/home/taanish/.conda/envs/manifold-learning/lib/python3.12/site-packages/sklearn/svm/_classes.py:31: FutureWarning: The default value of `dual` will change from `True` to `'auto'` in 1.5. Set the value of `dual` explicitly to suppress the warning.\n",
      "  warnings.warn(\n"
     ]
    },
    {
     "name": "stdout",
     "output_type": "stream",
     "text": [
      "Completed trial 1\n"
     ]
    },
    {
     "name": "stderr",
     "output_type": "stream",
     "text": [
      "/home/taanish/.conda/envs/manifold-learning/lib/python3.12/site-packages/sklearn/svm/_classes.py:31: FutureWarning: The default value of `dual` will change from `True` to `'auto'` in 1.5. Set the value of `dual` explicitly to suppress the warning.\n",
      "  warnings.warn(\n"
     ]
    },
    {
     "name": "stdout",
     "output_type": "stream",
     "text": [
      "Completed trial 2\n"
     ]
    },
    {
     "name": "stderr",
     "output_type": "stream",
     "text": [
      "/home/taanish/.conda/envs/manifold-learning/lib/python3.12/site-packages/sklearn/svm/_classes.py:31: FutureWarning: The default value of `dual` will change from `True` to `'auto'` in 1.5. Set the value of `dual` explicitly to suppress the warning.\n",
      "  warnings.warn(\n",
      "/home/taanish/trainer_library/Experiments/../manifoldlearning.py:162: UserWarning: Exited at iteration 1000 with accuracies \n",
      "[2.12150740e-09 1.39244895e-09 2.96129671e-10 3.35563488e-10\n",
      " 5.68371237e-10 4.85478661e-10 2.20723271e-09 2.01726295e-09\n",
      " 3.51540635e-09 1.94330869e-08]\n",
      "not reaching the requested tolerance 1e-08.\n",
      "Use iteration 1001 instead with accuracy \n",
      "3.2372488288443374e-09.\n",
      "\n",
      "  l, Vg = scipy.sparse.linalg.lobpcg(A_, X, M=None, tol=1e-8, largest=False,\n",
      "/home/taanish/trainer_library/Experiments/../manifoldlearning.py:162: UserWarning: Exited postprocessing with accuracies \n",
      "[2.12150758e-09 1.39244469e-09 2.96108831e-10 3.35521739e-10\n",
      " 5.68364969e-10 4.85437179e-10 2.20720657e-09 2.01723726e-09\n",
      " 3.51534994e-09 1.94330794e-08]\n",
      "not reaching the requested tolerance 1e-08.\n",
      "  l, Vg = scipy.sparse.linalg.lobpcg(A_, X, M=None, tol=1e-8, largest=False,\n"
     ]
    },
    {
     "name": "stdout",
     "output_type": "stream",
     "text": [
      "Completed trial 3\n"
     ]
    },
    {
     "ename": "KeyboardInterrupt",
     "evalue": "",
     "output_type": "error",
     "traceback": [
      "\u001b[0;31m---------------------------------------------------------------------------\u001b[0m",
      "\u001b[0;31mKeyboardInterrupt\u001b[0m                         Traceback (most recent call last)",
      "Cell \u001b[0;32mIn[33], line 1\u001b[0m\n\u001b[0;32m----> 1\u001b[0m gs, os \u001b[38;5;241m=\u001b[39m classifier\u001b[38;5;241m.\u001b[39mClassificationExperiments\u001b[38;5;241m.\u001b[39mrun(tester\u001b[38;5;241m=\u001b[39mcl, trials\u001b[38;5;241m=\u001b[39m\u001b[38;5;241m5\u001b[39m)\n",
      "File \u001b[0;32m~/trainer_library/Experiments/../classifier.py:89\u001b[0m, in \u001b[0;36mClassificationExperiments.run\u001b[0;34m(tester, trials, nn)\u001b[0m\n\u001b[1;32m     87\u001b[0m OOSE_scores \u001b[38;5;241m=\u001b[39m []\n\u001b[1;32m     88\u001b[0m \u001b[38;5;28;01mfor\u001b[39;00m i \u001b[38;5;129;01min\u001b[39;00m \u001b[38;5;28mrange\u001b[39m(trials):\n\u001b[0;32m---> 89\u001b[0m     tester\u001b[38;5;241m.\u001b[39mtrain(nn)\n\u001b[1;32m     90\u001b[0m     gs \u001b[38;5;241m=\u001b[39m tester\u001b[38;5;241m.\u001b[39mground_accuracy()\n\u001b[1;32m     91\u001b[0m     os, op \u001b[38;5;241m=\u001b[39m tester\u001b[38;5;241m.\u001b[39mOOSE_accuracy()\n",
      "File \u001b[0;32m~/trainer_library/Experiments/../classifier.py:41\u001b[0m, in \u001b[0;36mClassificationTests.train\u001b[0;34m(self, nn)\u001b[0m\n\u001b[1;32m     40\u001b[0m \u001b[38;5;28;01mdef\u001b[39;00m \u001b[38;5;21mtrain\u001b[39m(\u001b[38;5;28mself\u001b[39m, nn: \u001b[38;5;28mint\u001b[39m \u001b[38;5;241m=\u001b[39m \u001b[38;5;241m100\u001b[39m):\n\u001b[0;32m---> 41\u001b[0m     \u001b[38;5;28mself\u001b[39m\u001b[38;5;241m.\u001b[39m__generate_graphs(nn)\n\u001b[1;32m     42\u001b[0m     \u001b[38;5;28mself\u001b[39m\u001b[38;5;241m.\u001b[39m__train_helper()\n\u001b[1;32m     43\u001b[0m     \u001b[38;5;28mself\u001b[39m\u001b[38;5;241m.\u001b[39mtrained \u001b[38;5;241m=\u001b[39m \u001b[38;5;28;01mTrue\u001b[39;00m\n",
      "File \u001b[0;32m~/trainer_library/Experiments/../classifier.py:33\u001b[0m, in \u001b[0;36mClassificationTests.__generate_graphs\u001b[0;34m(self, nn)\u001b[0m\n\u001b[1;32m     32\u001b[0m \u001b[38;5;28;01mdef\u001b[39;00m \u001b[38;5;21m__generate_graphs\u001b[39m(\u001b[38;5;28mself\u001b[39m, nn):\n\u001b[0;32m---> 33\u001b[0m     \u001b[38;5;28mself\u001b[39m\u001b[38;5;241m.\u001b[39mW, \u001b[38;5;28mself\u001b[39m\u001b[38;5;241m.\u001b[39mG, \u001b[38;5;28mself\u001b[39m\u001b[38;5;241m.\u001b[39mL \u001b[38;5;241m=\u001b[39m manifoldlearning\u001b[38;5;241m.\u001b[39mmanifoldlearning\u001b[38;5;241m.\u001b[39mgenerate_knn(\u001b[38;5;28mself\u001b[39m\u001b[38;5;241m.\u001b[39msamples, n_neighbors\u001b[38;5;241m=\u001b[39mnn)\n\u001b[1;32m     34\u001b[0m     \u001b[38;5;28mself\u001b[39m\u001b[38;5;241m.\u001b[39mG_l, \u001b[38;5;28mself\u001b[39m\u001b[38;5;241m.\u001b[39mL_l \u001b[38;5;241m=\u001b[39m manifoldlearning\u001b[38;5;241m.\u001b[39mmanifoldlearning\u001b[38;5;241m.\u001b[39mpartition_knn(\u001b[38;5;28mself\u001b[39m\u001b[38;5;241m.\u001b[39mG, \u001b[38;5;28mself\u001b[39m\u001b[38;5;241m.\u001b[39mlabel_ind)\n",
      "File \u001b[0;32m~/trainer_library/Experiments/../manifoldlearning.py:227\u001b[0m, in \u001b[0;36mmanifoldlearning.generate_knn\u001b[0;34m(data, n_neighbors, bandwidth, kernel, normalization)\u001b[0m\n\u001b[1;32m    225\u001b[0m \u001b[38;5;129m@staticmethod\u001b[39m\n\u001b[1;32m    226\u001b[0m \u001b[38;5;28;01mdef\u001b[39;00m \u001b[38;5;21mgenerate_knn\u001b[39m(data, n_neighbors: \u001b[38;5;28mint\u001b[39m \u001b[38;5;241m=\u001b[39m \u001b[38;5;241m100\u001b[39m, bandwidth: \u001b[38;5;28mint\u001b[39m \u001b[38;5;241m=\u001b[39m \u001b[38;5;241m0.2\u001b[39m, kernel: \u001b[38;5;28mstr\u001b[39m\u001b[38;5;241m=\u001b[39m\u001b[38;5;124m'\u001b[39m\u001b[38;5;124msymgaussian\u001b[39m\u001b[38;5;124m'\u001b[39m, normalization: \u001b[38;5;28mstr\u001b[39m\u001b[38;5;241m=\u001b[39m\u001b[38;5;124m'\u001b[39m\u001b[38;5;124mcombinatorial\u001b[39m\u001b[38;5;124m'\u001b[39m):\n\u001b[0;32m--> 227\u001b[0m     W \u001b[38;5;241m=\u001b[39m gl\u001b[38;5;241m.\u001b[39mweightmatrix\u001b[38;5;241m.\u001b[39mknn(data\u001b[38;5;241m=\u001b[39mdata,k\u001b[38;5;241m=\u001b[39mn_neighbors,kernel\u001b[38;5;241m=\u001b[39mkernel)\n\u001b[1;32m    228\u001b[0m     G \u001b[38;5;241m=\u001b[39m gl\u001b[38;5;241m.\u001b[39mgraph(W)\n\u001b[1;32m    229\u001b[0m     L \u001b[38;5;241m=\u001b[39m G\u001b[38;5;241m.\u001b[39mlaplacian(normalization\u001b[38;5;241m=\u001b[39mnormalization)\n",
      "File \u001b[0;32m~/.conda/envs/manifold-learning/lib/python3.12/site-packages/graphlearning/weightmatrix.py:131\u001b[0m, in \u001b[0;36mknn\u001b[0;34m(data, k, kernel, eta, symmetrize, metric, similarity, knn_data)\u001b[0m\n\u001b[1;32m    127\u001b[0m     knn_ind, knn_dist \u001b[38;5;241m=\u001b[39m load_knn_data(data, metric\u001b[38;5;241m=\u001b[39mmetric)\n\u001b[1;32m    129\u001b[0m \u001b[38;5;66;03m#Else we have to run a knnsearch\u001b[39;00m\n\u001b[1;32m    130\u001b[0m \u001b[38;5;28;01melse\u001b[39;00m:\n\u001b[0;32m--> 131\u001b[0m     knn_ind, knn_dist \u001b[38;5;241m=\u001b[39m knnsearch(data, k, similarity\u001b[38;5;241m=\u001b[39msimilarity)\n\u001b[1;32m    133\u001b[0m \u001b[38;5;66;03m#Restrict to k nearest neighbors\u001b[39;00m\n\u001b[1;32m    134\u001b[0m n \u001b[38;5;241m=\u001b[39m knn_ind\u001b[38;5;241m.\u001b[39mshape[\u001b[38;5;241m0\u001b[39m]\n",
      "File \u001b[0;32m~/.conda/envs/manifold-learning/lib/python3.12/site-packages/graphlearning/weightmatrix.py:381\u001b[0m, in \u001b[0;36mknnsearch\u001b[0;34m(X, k, method, similarity, dataset, metric)\u001b[0m\n\u001b[1;32m    378\u001b[0m \u001b[38;5;66;03m#knn_dist.append(A[1]) #These distances are floating point (32-bit) precision\u001b[39;00m\n\u001b[1;32m    379\u001b[0m \u001b[38;5;66;03m#The code below computes them more accurately\u001b[39;00m\n\u001b[1;32m    380\u001b[0m \u001b[38;5;28;01mif\u001b[39;00m similarity \u001b[38;5;241m==\u001b[39m \u001b[38;5;124m'\u001b[39m\u001b[38;5;124meuclidean\u001b[39m\u001b[38;5;124m'\u001b[39m:\n\u001b[0;32m--> 381\u001b[0m     dist \u001b[38;5;241m=\u001b[39m np\u001b[38;5;241m.\u001b[39mlinalg\u001b[38;5;241m.\u001b[39mnorm(X[i,:] \u001b[38;5;241m-\u001b[39m X[ind,:],axis\u001b[38;5;241m=\u001b[39m\u001b[38;5;241m1\u001b[39m)\n\u001b[1;32m    382\u001b[0m \u001b[38;5;28;01melif\u001b[39;00m similarity \u001b[38;5;241m==\u001b[39m \u001b[38;5;124m'\u001b[39m\u001b[38;5;124mangular\u001b[39m\u001b[38;5;124m'\u001b[39m:\n\u001b[1;32m    383\u001b[0m     vi \u001b[38;5;241m=\u001b[39m X[i,:]\u001b[38;5;241m/\u001b[39mnp\u001b[38;5;241m.\u001b[39mmaximum(np\u001b[38;5;241m.\u001b[39mlinalg\u001b[38;5;241m.\u001b[39mnorm(X[i,:]),eps)\n",
      "File \u001b[0;32m~/.conda/envs/manifold-learning/lib/python3.12/site-packages/numpy/linalg/linalg.py:2583\u001b[0m, in \u001b[0;36mnorm\u001b[0;34m(x, ord, axis, keepdims)\u001b[0m\n\u001b[1;32m   2580\u001b[0m \u001b[38;5;28;01melif\u001b[39;00m \u001b[38;5;28mord\u001b[39m \u001b[38;5;129;01mis\u001b[39;00m \u001b[38;5;28;01mNone\u001b[39;00m \u001b[38;5;129;01mor\u001b[39;00m \u001b[38;5;28mord\u001b[39m \u001b[38;5;241m==\u001b[39m \u001b[38;5;241m2\u001b[39m:\n\u001b[1;32m   2581\u001b[0m     \u001b[38;5;66;03m# special case for speedup\u001b[39;00m\n\u001b[1;32m   2582\u001b[0m     s \u001b[38;5;241m=\u001b[39m (x\u001b[38;5;241m.\u001b[39mconj() \u001b[38;5;241m*\u001b[39m x)\u001b[38;5;241m.\u001b[39mreal\n\u001b[0;32m-> 2583\u001b[0m     \u001b[38;5;28;01mreturn\u001b[39;00m sqrt(add\u001b[38;5;241m.\u001b[39mreduce(s, axis\u001b[38;5;241m=\u001b[39maxis, keepdims\u001b[38;5;241m=\u001b[39mkeepdims))\n\u001b[1;32m   2584\u001b[0m \u001b[38;5;66;03m# None of the str-type keywords for ord ('fro', 'nuc')\u001b[39;00m\n\u001b[1;32m   2585\u001b[0m \u001b[38;5;66;03m# are valid for vectors\u001b[39;00m\n\u001b[1;32m   2586\u001b[0m \u001b[38;5;28;01melif\u001b[39;00m \u001b[38;5;28misinstance\u001b[39m(\u001b[38;5;28mord\u001b[39m, \u001b[38;5;28mstr\u001b[39m):\n",
      "\u001b[0;31mKeyboardInterrupt\u001b[0m: "
     ]
    }
   ],
   "source": [
    "gs, os = classifier.ClassificationExperiments.run(tester=cl, trials=5)"
   ]
  },
  {
   "cell_type": "code",
   "execution_count": null,
   "metadata": {},
   "outputs": [],
   "source": []
  }
 ],
 "metadata": {
  "kernelspec": {
   "display_name": "manifold-learning",
   "language": "python",
   "name": "manifold-learning"
  },
  "language_info": {
   "codemirror_mode": {
    "name": "ipython",
    "version": 3
   },
   "file_extension": ".py",
   "mimetype": "text/x-python",
   "name": "python",
   "nbconvert_exporter": "python",
   "pygments_lexer": "ipython3",
   "version": "3.12.3"
  }
 },
 "nbformat": 4,
 "nbformat_minor": 2
}
