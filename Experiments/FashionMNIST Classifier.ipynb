{
 "cells": [
  {
   "cell_type": "code",
   "execution_count": 1,
   "metadata": {},
   "outputs": [],
   "source": [
    "%load_ext autoreload"
   ]
  },
  {
   "cell_type": "code",
   "execution_count": 2,
   "metadata": {},
   "outputs": [],
   "source": [
    "%autoreload 2"
   ]
  },
  {
   "cell_type": "code",
   "execution_count": 3,
   "metadata": {},
   "outputs": [],
   "source": [
    "import numpy as np\n",
    "import scipy.integrate as integrate\n",
    "from scipy.optimize import fsolve\n",
    "import scipy\n",
    "from scipy.spatial.distance import cdist\n",
    "from sklearn.decomposition import PCA\n",
    "from sklearn import manifold\n",
    "from sklearn import svm\n",
    "import scipy.misc\n",
    "\n",
    "import graphlearning as gl\n",
    "\n",
    "import matplotlib.pyplot as plt"
   ]
  },
  {
   "cell_type": "code",
   "execution_count": 4,
   "metadata": {},
   "outputs": [],
   "source": [
    "from sklearn import linear_model as linear\n",
    "from sklearn import metrics as metrics"
   ]
  },
  {
   "cell_type": "code",
   "execution_count": 5,
   "metadata": {},
   "outputs": [],
   "source": [
    "from torchvision import datasets, transforms"
   ]
  },
  {
   "cell_type": "code",
   "execution_count": 6,
   "metadata": {},
   "outputs": [],
   "source": [
    "import sys"
   ]
  },
  {
   "cell_type": "code",
   "execution_count": 7,
   "metadata": {},
   "outputs": [],
   "source": [
    "sys.path.append('../')"
   ]
  },
  {
   "cell_type": "code",
   "execution_count": 8,
   "metadata": {},
   "outputs": [],
   "source": [
    "import classifier"
   ]
  },
  {
   "cell_type": "code",
   "execution_count": 9,
   "metadata": {},
   "outputs": [],
   "source": [
    "import pickle"
   ]
  },
  {
   "cell_type": "code",
   "execution_count": 10,
   "metadata": {},
   "outputs": [],
   "source": [
    "def save_object(obj, filename):\n",
    "    with open(filename, 'wb') as outp:  # Overwrites any existing file.\n",
    "        pickle.dump(obj, outp, pickle.HIGHEST_PROTOCOL)"
   ]
  },
  {
   "cell_type": "code",
   "execution_count": 11,
   "metadata": {},
   "outputs": [],
   "source": [
    "objs = []"
   ]
  },
  {
   "cell_type": "code",
   "execution_count": 12,
   "metadata": {},
   "outputs": [],
   "source": [
    "fmnist = datasets.FashionMNIST(\"/home/taanish/FashionMNIST\", train=True, download=False)"
   ]
  },
  {
   "cell_type": "code",
   "execution_count": 15,
   "metadata": {},
   "outputs": [],
   "source": [
    "X = fmnist.data.numpy()"
   ]
  },
  {
   "cell_type": "code",
   "execution_count": 16,
   "metadata": {},
   "outputs": [],
   "source": [
    "X = np.reshape(X, (X.shape[0], 784))"
   ]
  },
  {
   "cell_type": "code",
   "execution_count": 19,
   "metadata": {},
   "outputs": [],
   "source": [
    "labels = fmnist.targets.numpy()"
   ]
  },
  {
   "cell_type": "code",
   "execution_count": 14,
   "metadata": {},
   "outputs": [],
   "source": [
    "#X_10k = X[:10000,:28,:28]"
   ]
  },
  {
   "cell_type": "code",
   "execution_count": 38,
   "metadata": {},
   "outputs": [],
   "source": [
    "#X_10k = np.reshape(X_10k, (10000, 784))"
   ]
  },
  {
   "cell_type": "code",
   "execution_count": 33,
   "metadata": {},
   "outputs": [],
   "source": [
    "#labels_10k = mnist.targets.numpy()[:10000]"
   ]
  },
  {
   "cell_type": "code",
   "execution_count": 20,
   "metadata": {},
   "outputs": [],
   "source": [
    "# 10000 labels, 10% labeled"
   ]
  },
  {
   "cell_type": "code",
   "execution_count": 39,
   "metadata": {},
   "outputs": [],
   "source": [
    "#cl = classifier.ClassificationTests(X_10k, labels, 1000, 10000)"
   ]
  },
  {
   "cell_type": "code",
   "execution_count": 26,
   "metadata": {},
   "outputs": [],
   "source": [
    "cl = classifier.Classifier(X, labels)"
   ]
  },
  {
   "cell_type": "code",
   "execution_count": 22,
   "metadata": {},
   "outputs": [],
   "source": [
    "# first experiment: average scores"
   ]
  },
  {
   "cell_type": "code",
   "execution_count": 34,
   "metadata": {},
   "outputs": [
    {
     "name": "stdout",
     "output_type": "stream",
     "text": [
      " train() is being ran with the following parameters:\n",
      "                Number of samples: 10000\n",
      "                Number of labeled samples: 1000\n",
      "                Nearest neighbors: 100\n",
      "                Eigenvectors: 10\n",
      "            \n"
     ]
    },
    {
     "name": "stderr",
     "output_type": "stream",
     "text": [
      "/home/taanish/.conda/envs/manifold-learning/lib/python3.12/site-packages/sklearn/svm/_classes.py:31: FutureWarning: The default value of `dual` will change from `True` to `'auto'` in 1.5. Set the value of `dual` explicitly to suppress the warning.\n",
      "  warnings.warn(\n"
     ]
    },
    {
     "name": "stdout",
     "output_type": "stream",
     "text": [
      "Completed trial 0\n",
      " train() is being ran with the following parameters:\n",
      "                Number of samples: 10000\n",
      "                Number of labeled samples: 1000\n",
      "                Nearest neighbors: 100\n",
      "                Eigenvectors: 10\n",
      "            \n"
     ]
    },
    {
     "name": "stderr",
     "output_type": "stream",
     "text": [
      "/home/taanish/.conda/envs/manifold-learning/lib/python3.12/site-packages/sklearn/svm/_classes.py:31: FutureWarning: The default value of `dual` will change from `True` to `'auto'` in 1.5. Set the value of `dual` explicitly to suppress the warning.\n",
      "  warnings.warn(\n"
     ]
    },
    {
     "name": "stdout",
     "output_type": "stream",
     "text": [
      "Completed trial 1\n",
      " train() is being ran with the following parameters:\n",
      "                Number of samples: 10000\n",
      "                Number of labeled samples: 1000\n",
      "                Nearest neighbors: 100\n",
      "                Eigenvectors: 10\n",
      "            \n"
     ]
    },
    {
     "name": "stderr",
     "output_type": "stream",
     "text": [
      "/home/taanish/.conda/envs/manifold-learning/lib/python3.12/site-packages/sklearn/svm/_classes.py:31: FutureWarning: The default value of `dual` will change from `True` to `'auto'` in 1.5. Set the value of `dual` explicitly to suppress the warning.\n",
      "  warnings.warn(\n"
     ]
    },
    {
     "name": "stdout",
     "output_type": "stream",
     "text": [
      "Completed trial 2\n",
      " train() is being ran with the following parameters:\n",
      "                Number of samples: 10000\n",
      "                Number of labeled samples: 1000\n",
      "                Nearest neighbors: 100\n",
      "                Eigenvectors: 10\n",
      "            \n"
     ]
    },
    {
     "name": "stderr",
     "output_type": "stream",
     "text": [
      "/home/taanish/.conda/envs/manifold-learning/lib/python3.12/site-packages/sklearn/svm/_classes.py:31: FutureWarning: The default value of `dual` will change from `True` to `'auto'` in 1.5. Set the value of `dual` explicitly to suppress the warning.\n",
      "  warnings.warn(\n",
      "/home/taanish/trainer_library/Experiments/../manifoldlearning.py:162: UserWarning: Exited at iteration 1000 with accuracies \n",
      "[4.63713212e-09 5.28224336e-10 1.41294831e-09 1.23420990e-09\n",
      " 4.87326434e-11 1.88117891e-10 4.55242999e-10 5.28519028e-09\n",
      " 3.86345429e-08 2.38971997e-08]\n",
      "not reaching the requested tolerance 1e-08.\n",
      "Use iteration 1000 instead with accuracy \n",
      "7.577476386568485e-09.\n",
      "\n",
      "  l, Vg = scipy.sparse.linalg.lobpcg(A_, X, M=None, tol=1e-8, largest=False,\n",
      "/home/taanish/trainer_library/Experiments/../manifoldlearning.py:162: UserWarning: Exited postprocessing with accuracies \n",
      "[4.63695476e-09 5.28198619e-10 1.41286473e-09 1.23405658e-09\n",
      " 4.53117633e-11 1.70883986e-10 4.26380202e-10 4.75765642e-09\n",
      " 1.06220534e-08 1.19233826e-08]\n",
      "not reaching the requested tolerance 1e-08.\n",
      "  l, Vg = scipy.sparse.linalg.lobpcg(A_, X, M=None, tol=1e-8, largest=False,\n"
     ]
    },
    {
     "name": "stdout",
     "output_type": "stream",
     "text": [
      "Completed trial 3\n",
      " train() is being ran with the following parameters:\n",
      "                Number of samples: 10000\n",
      "                Number of labeled samples: 1000\n",
      "                Nearest neighbors: 100\n",
      "                Eigenvectors: 10\n",
      "            \n"
     ]
    },
    {
     "name": "stderr",
     "output_type": "stream",
     "text": [
      "/home/taanish/.conda/envs/manifold-learning/lib/python3.12/site-packages/sklearn/svm/_classes.py:31: FutureWarning: The default value of `dual` will change from `True` to `'auto'` in 1.5. Set the value of `dual` explicitly to suppress the warning.\n",
      "  warnings.warn(\n"
     ]
    },
    {
     "name": "stdout",
     "output_type": "stream",
     "text": [
      "Completed trial 4\n"
     ]
    }
   ],
   "source": [
    "gs, os = classifier.ClassificationExperiments.run(tester=cl, n=10000, m=1000, trials=5)"
   ]
  },
  {
   "cell_type": "code",
   "execution_count": 35,
   "metadata": {},
   "outputs": [],
   "source": [
    "gs_101 = gs"
   ]
  },
  {
   "cell_type": "code",
   "execution_count": 36,
   "metadata": {},
   "outputs": [],
   "source": [
    "os_101 = os"
   ]
  },
  {
   "cell_type": "code",
   "execution_count": 37,
   "metadata": {},
   "outputs": [],
   "source": [
    "objs.append(gs_101)\n",
    "objs.append(os_101)"
   ]
  },
  {
   "cell_type": "code",
   "execution_count": 38,
   "metadata": {},
   "outputs": [
    {
     "data": {
      "text/plain": [
       "[0.641, 0.653, 0.662, 0.635, 0.653]"
      ]
     },
     "execution_count": 38,
     "metadata": {},
     "output_type": "execute_result"
    }
   ],
   "source": [
    "gs_101"
   ]
  },
  {
   "cell_type": "code",
   "execution_count": 39,
   "metadata": {},
   "outputs": [
    {
     "data": {
      "text/plain": [
       "[0.6811111111111111,\n",
       " 0.6522222222222223,\n",
       " 0.6522222222222223,\n",
       " 0.649,\n",
       " 0.6658888888888889]"
      ]
     },
     "execution_count": 39,
     "metadata": {},
     "output_type": "execute_result"
    }
   ],
   "source": [
    "os_101"
   ]
  },
  {
   "cell_type": "code",
   "execution_count": 59,
   "metadata": {},
   "outputs": [],
   "source": [
    "# second experiment: average scores, varying eigenvectors"
   ]
  },
  {
   "cell_type": "code",
   "execution_count": 49,
   "metadata": {},
   "outputs": [],
   "source": [
    "steps = [10, 15, 20]"
   ]
  },
  {
   "cell_type": "code",
   "execution_count": 32,
   "metadata": {},
   "outputs": [
    {
     "ename": "NameError",
     "evalue": "name 'steps' is not defined",
     "output_type": "error",
     "traceback": [
      "\u001b[0;31m---------------------------------------------------------------------------\u001b[0m",
      "\u001b[0;31mNameError\u001b[0m                                 Traceback (most recent call last)",
      "Cell \u001b[0;32mIn[32], line 1\u001b[0m\n\u001b[0;32m----> 1\u001b[0m gsve_101, osve_101 \u001b[38;5;241m=\u001b[39m classifier\u001b[38;5;241m.\u001b[39mClassificationExperiments\u001b[38;5;241m.\u001b[39mvary_eigenvectors(tester\u001b[38;5;241m=\u001b[39mcl, trials\u001b[38;5;241m=\u001b[39m\u001b[38;5;241m5\u001b[39m, steps\u001b[38;5;241m=\u001b[39msteps)\n",
      "\u001b[0;31mNameError\u001b[0m: name 'steps' is not defined"
     ]
    }
   ],
   "source": [
    "gsve_101, osve_101 = classifier.ClassificationExperiments.vary_eigenvectors(tester=cl, trials=5, steps=steps)"
   ]
  },
  {
   "cell_type": "code",
   "execution_count": 31,
   "metadata": {},
   "outputs": [
    {
     "ename": "NameError",
     "evalue": "name 'gsve_101' is not defined",
     "output_type": "error",
     "traceback": [
      "\u001b[0;31m---------------------------------------------------------------------------\u001b[0m",
      "\u001b[0;31mNameError\u001b[0m                                 Traceback (most recent call last)",
      "Cell \u001b[0;32mIn[31], line 1\u001b[0m\n\u001b[0;32m----> 1\u001b[0m gsve_101\n",
      "\u001b[0;31mNameError\u001b[0m: name 'gsve_101' is not defined"
     ]
    }
   ],
   "source": [
    "gsve_101"
   ]
  },
  {
   "cell_type": "code",
   "execution_count": 29,
   "metadata": {},
   "outputs": [
    {
     "ename": "NameError",
     "evalue": "name 'gsve_101' is not defined",
     "output_type": "error",
     "traceback": [
      "\u001b[0;31m---------------------------------------------------------------------------\u001b[0m",
      "\u001b[0;31mNameError\u001b[0m                                 Traceback (most recent call last)",
      "Cell \u001b[0;32mIn[29], line 1\u001b[0m\n\u001b[0;32m----> 1\u001b[0m objs\u001b[38;5;241m.\u001b[39mappend(gsve_101)\n\u001b[1;32m      2\u001b[0m objs\u001b[38;5;241m.\u001b[39mappend(osve_101)\n",
      "\u001b[0;31mNameError\u001b[0m: name 'gsve_101' is not defined"
     ]
    }
   ],
   "source": [
    "objs.append(gsve_101)\n",
    "objs.append(osve_101)"
   ]
  },
  {
   "cell_type": "code",
   "execution_count": null,
   "metadata": {},
   "outputs": [],
   "source": [
    "plt.scatter(steps, osve_101)\n",
    "plt.savefig(\"fm_osve_101.png\")"
   ]
  },
  {
   "cell_type": "code",
   "execution_count": 80,
   "metadata": {},
   "outputs": [
    {
     "data": {
      "image/png": "[encoded data removed]",
      "text/plain": [
       "<Figure size 640x480 with 1 Axes>"
      ]
     },
     "metadata": {},
     "output_type": "display_data"
    }
   ],
   "source": [
    "plt.scatter(steps, gsve_101)\n",
    "plt.savefig(\"fm_gsve_101.png\")"
   ]
  },
  {
   "cell_type": "code",
   "execution_count": 72,
   "metadata": {},
   "outputs": [],
   "source": [
    "plt.show()"
   ]
  },
  {
   "cell_type": "code",
   "execution_count": 60,
   "metadata": {},
   "outputs": [],
   "source": [
    "# third experiment: average scores, varying nearest neighbors"
   ]
  },
  {
   "cell_type": "code",
   "execution_count": 55,
   "metadata": {},
   "outputs": [],
   "source": [
    "nn_steps = [100,200,300]"
   ]
  },
  {
   "cell_type": "code",
   "execution_count": 62,
   "metadata": {},
   "outputs": [
    {
     "name": "stderr",
     "output_type": "stream",
     "text": [
      "/home/taanish/.conda/envs/manifold-learning/lib/python3.12/site-packages/sklearn/svm/_classes.py:31: FutureWarning: The default value of `dual` will change from `True` to `'auto'` in 1.5. Set the value of `dual` explicitly to suppress the warning.\n",
      "  warnings.warn(\n",
      "/home/taanish/trainer_library/Experiments/../manifoldlearning.py:162: UserWarning: Exited at iteration 1000 with accuracies \n",
      "[4.29933488e-09 2.17262746e-09 3.76981485e-10 3.02398745e-11\n",
      " 3.72532748e-11 1.83024780e-11 2.11515950e-11 2.96385026e-11\n",
      " 3.07172525e-11 1.19752772e-11 2.77533371e-11 3.61355256e-11\n",
      " 6.89208405e-11 1.39983419e-10 1.48123646e-10 2.89574331e-10\n",
      " 9.55669396e-10 2.01841609e-09 1.80899393e-09 2.28517632e-08]\n",
      "not reaching the requested tolerance 1e-08.\n",
      "Use iteration 1000 instead with accuracy \n",
      "1.7465671816238893e-09.\n",
      "\n",
      "  l, Vg = scipy.sparse.linalg.lobpcg(A_, X, M=None, tol=1e-8, largest=False,\n",
      "/home/taanish/trainer_library/Experiments/../manifoldlearning.py:162: UserWarning: Exited postprocessing with accuracies \n",
      "[4.29947752e-09 2.17253067e-09 3.76907568e-10 2.47556436e-11\n",
      " 3.52680175e-11 1.37119670e-11 1.41442879e-11 1.97582742e-11\n",
      " 2.17547673e-11 7.20138147e-12 2.31932082e-11 2.63913812e-11\n",
      " 6.84277779e-11 7.21209410e-11 6.25385233e-11 2.88197871e-10\n",
      " 8.88918657e-10 1.99413426e-09 1.75715216e-09 2.24296877e-08]\n",
      "not reaching the requested tolerance 1e-08.\n",
      "  l, Vg = scipy.sparse.linalg.lobpcg(A_, X, M=None, tol=1e-8, largest=False,\n"
     ]
    },
    {
     "name": "stdout",
     "output_type": "stream",
     "text": [
      "Completed trial 0\n"
     ]
    },
    {
     "name": "stderr",
     "output_type": "stream",
     "text": [
      "/home/taanish/.conda/envs/manifold-learning/lib/python3.12/site-packages/sklearn/svm/_classes.py:31: FutureWarning: The default value of `dual` will change from `True` to `'auto'` in 1.5. Set the value of `dual` explicitly to suppress the warning.\n",
      "  warnings.warn(\n",
      "/home/taanish/trainer_library/Experiments/../manifoldlearning.py:162: UserWarning: Exited at iteration 1000 with accuracies \n",
      "[2.59337997e-09 1.19124485e-09 1.02746599e-09 6.85000551e-10\n",
      " 1.52940871e-10 4.82291062e-11 3.28852592e-11 7.03138391e-11\n",
      " 6.61344609e-11 3.14362973e-11 5.12730089e-11 1.29467117e-10\n",
      " 5.46012475e-11 2.40751575e-11 1.80561623e-10 1.22737594e-09\n",
      " 1.11571895e-09 1.22975016e-08 1.27839731e-09 2.35639120e-06]\n",
      "not reaching the requested tolerance 1e-08.\n",
      "Use iteration 992 instead with accuracy \n",
      "1.0009938223547849e-07.\n",
      "\n",
      "  l, Vg = scipy.sparse.linalg.lobpcg(A_, X, M=None, tol=1e-8, largest=False,\n",
      "/home/taanish/trainer_library/Experiments/../manifoldlearning.py:162: UserWarning: Exited postprocessing with accuracies \n",
      "[2.59470910e-09 1.17928023e-09 1.02562789e-09 6.85062069e-10\n",
      " 1.52839311e-10 3.87869793e-11 1.31745143e-11 6.96880982e-11\n",
      " 6.45340523e-11 3.02341058e-11 5.08101492e-11 1.28636785e-10\n",
      " 5.34811615e-11 2.33835960e-11 1.76451198e-10 1.08193036e-09\n",
      " 9.79071282e-10 1.06615056e-08 1.18243160e-09 1.98174978e-06]\n",
      "not reaching the requested tolerance 1e-08.\n",
      "  l, Vg = scipy.sparse.linalg.lobpcg(A_, X, M=None, tol=1e-8, largest=False,\n"
     ]
    },
    {
     "name": "stdout",
     "output_type": "stream",
     "text": [
      "Completed trial 1\n"
     ]
    },
    {
     "name": "stderr",
     "output_type": "stream",
     "text": [
      "/home/taanish/.conda/envs/manifold-learning/lib/python3.12/site-packages/sklearn/svm/_classes.py:31: FutureWarning: The default value of `dual` will change from `True` to `'auto'` in 1.5. Set the value of `dual` explicitly to suppress the warning.\n",
      "  warnings.warn(\n",
      "/home/taanish/trainer_library/Experiments/../manifoldlearning.py:162: UserWarning: Exited at iteration 1000 with accuracies \n",
      "[2.51935236e-09 4.34158851e-10 6.69832364e-10 5.36233272e-11\n",
      " 3.59206465e-11 1.78033878e-11 1.57130650e-11 2.22922177e-11\n",
      " 3.50669027e-11 1.30489265e-11 3.02992437e-11 4.38584578e-11\n",
      " 1.23126384e-10 1.94189651e-11 1.62757581e-10 6.15928397e-10\n",
      " 2.08610729e-09 5.12792032e-08 4.32496602e-09 7.23511004e-07]\n",
      "not reaching the requested tolerance 1e-08.\n",
      "Use iteration 988 instead with accuracy \n",
      "3.618144508164725e-08.\n",
      "\n",
      "  l, Vg = scipy.sparse.linalg.lobpcg(A_, X, M=None, tol=1e-8, largest=False,\n",
      "/home/taanish/trainer_library/Experiments/../manifoldlearning.py:162: UserWarning: Exited postprocessing with accuracies \n",
      "[2.51981690e-09 4.34163818e-10 6.69981306e-10 5.28808382e-11\n",
      " 3.55277410e-11 1.63507343e-11 1.46404361e-11 2.10024110e-11\n",
      " 3.48176923e-11 1.23223899e-11 2.89916977e-11 4.29361150e-11\n",
      " 1.22900758e-10 1.73971225e-11 1.65955770e-10 6.12872795e-10\n",
      " 2.09604820e-09 4.97322767e-08 4.05826098e-09 6.62927804e-07]\n",
      "not reaching the requested tolerance 1e-08.\n",
      "  l, Vg = scipy.sparse.linalg.lobpcg(A_, X, M=None, tol=1e-8, largest=False,\n"
     ]
    },
    {
     "name": "stdout",
     "output_type": "stream",
     "text": [
      "Completed trial 2\n"
     ]
    },
    {
     "name": "stderr",
     "output_type": "stream",
     "text": [
      "/home/taanish/.conda/envs/manifold-learning/lib/python3.12/site-packages/sklearn/svm/_classes.py:31: FutureWarning: The default value of `dual` will change from `True` to `'auto'` in 1.5. Set the value of `dual` explicitly to suppress the warning.\n",
      "  warnings.warn(\n",
      "/home/taanish/trainer_library/Experiments/../manifoldlearning.py:162: UserWarning: Exited at iteration 1000 with accuracies \n",
      "[7.39721979e-06 2.06903666e-07 1.88306568e-06 3.98699961e-06\n",
      " 2.74245172e-06 1.08799709e-06 1.87676290e-06 9.39948501e-06\n",
      " 1.01613475e-05 5.51840940e-06 5.37850663e-06 6.42533743e-06\n",
      " 1.44451493e-06 4.55808984e-06 6.26880930e-06 1.17959508e-06\n",
      " 8.51437583e-06 1.04117826e-05 3.92868646e-06 6.69555407e-06]\n",
      "not reaching the requested tolerance 1e-08.\n",
      "Use iteration 616 instead with accuracy \n",
      "2.0891769109630742e-07.\n",
      "\n",
      "  l, Vg = scipy.sparse.linalg.lobpcg(A_, X, M=None, tol=1e-8, largest=False,\n",
      "/home/taanish/trainer_library/Experiments/../manifoldlearning.py:162: UserWarning: Exited postprocessing with accuracies \n",
      "[1.13682543e-07 3.97313874e-08 6.82259459e-08 8.71094187e-08\n",
      " 2.70795485e-07 1.53497119e-07 1.36925016e-07 3.26456742e-07\n",
      " 3.19468956e-07 8.65804924e-08 3.47498638e-07 1.20578531e-07\n",
      " 1.94059035e-07 2.30200598e-07 4.49889593e-07 1.35899541e-07\n",
      " 1.74790637e-07 3.11684048e-07 9.99248505e-08 2.98414942e-07]\n",
      "not reaching the requested tolerance 1e-08.\n",
      "  l, Vg = scipy.sparse.linalg.lobpcg(A_, X, M=None, tol=1e-8, largest=False,\n"
     ]
    },
    {
     "name": "stdout",
     "output_type": "stream",
     "text": [
      "Completed trial 3\n"
     ]
    },
    {
     "name": "stderr",
     "output_type": "stream",
     "text": [
      "/home/taanish/.conda/envs/manifold-learning/lib/python3.12/site-packages/sklearn/svm/_classes.py:31: FutureWarning: The default value of `dual` will change from `True` to `'auto'` in 1.5. Set the value of `dual` explicitly to suppress the warning.\n",
      "  warnings.warn(\n",
      "/home/taanish/trainer_library/Experiments/../manifoldlearning.py:162: UserWarning: Exited at iteration 1000 with accuracies \n",
      "[3.96603863e-09 1.83581630e-10 9.79380195e-11 5.68930092e-11\n",
      " 6.16898971e-11 3.08544015e-11 1.15889933e-11 9.08984819e-12\n",
      " 1.47018091e-11 1.48516838e-11 4.85017883e-11 2.18375481e-11\n",
      " 6.19666175e-11 7.22122834e-11 3.86365847e-11 3.79699991e-10\n",
      " 1.87107639e-10 3.96537452e-09 1.17994952e-08 9.26450703e-07]\n",
      "not reaching the requested tolerance 1e-08.\n",
      "Use iteration 1000 instead with accuracy \n",
      "4.6172049267425114e-08.\n",
      "\n",
      "  l, Vg = scipy.sparse.linalg.lobpcg(A_, X, M=None, tol=1e-8, largest=False,\n",
      "/home/taanish/trainer_library/Experiments/../manifoldlearning.py:162: UserWarning: Exited postprocessing with accuracies \n",
      "[3.96617472e-09 1.83392292e-10 9.79306018e-11 5.68560456e-11\n",
      " 6.14384390e-11 2.39364585e-11 8.75150682e-12 8.05678272e-12\n",
      " 1.27146231e-11 8.37217375e-12 4.83740777e-11 2.16972131e-11\n",
      " 5.94058859e-11 7.27619704e-11 3.30834423e-11 3.81455984e-10\n",
      " 1.86077465e-10 3.84230419e-09 1.17037995e-08 9.02635567e-07]\n",
      "not reaching the requested tolerance 1e-08.\n",
      "  l, Vg = scipy.sparse.linalg.lobpcg(A_, X, M=None, tol=1e-8, largest=False,\n"
     ]
    },
    {
     "name": "stdout",
     "output_type": "stream",
     "text": [
      "Completed trial 4\n",
      "Completed step 100\n"
     ]
    },
    {
     "name": "stderr",
     "output_type": "stream",
     "text": [
      "/home/taanish/.conda/envs/manifold-learning/lib/python3.12/site-packages/sklearn/svm/_classes.py:31: FutureWarning: The default value of `dual` will change from `True` to `'auto'` in 1.5. Set the value of `dual` explicitly to suppress the warning.\n",
      "  warnings.warn(\n",
      "/home/taanish/trainer_library/Experiments/../manifoldlearning.py:162: UserWarning: Exited at iteration 1000 with accuracies \n",
      "[3.64894066e-09 7.76733335e-10 1.08598008e-09 7.07500161e-11\n",
      " 6.63471866e-11 3.36843879e-11 2.52700978e-11 3.42625723e-11\n",
      " 3.93402758e-11 3.61270625e-11 3.56182865e-11 1.19786199e-10\n",
      " 6.19728348e-11 1.94582025e-10 1.18300008e-10 5.96585587e-10\n",
      " 1.74811954e-10 3.70478030e-10 2.02486347e-08 1.25830440e-06]\n",
      "not reaching the requested tolerance 1e-08.\n",
      "Use iteration 992 instead with accuracy \n",
      "5.3928198204351194e-08.\n",
      "\n",
      "  l, Vg = scipy.sparse.linalg.lobpcg(A_, X, M=None, tol=1e-8, largest=False,\n",
      "/home/taanish/trainer_library/Experiments/../manifoldlearning.py:162: UserWarning: Exited postprocessing with accuracies \n",
      "[3.65067294e-09 7.76957412e-10 1.08607745e-09 6.53305727e-11\n",
      " 4.00207693e-11 2.27302024e-11 1.78325584e-11 2.55320595e-11\n",
      " 2.48155528e-11 1.96290767e-11 2.26839144e-11 1.18218546e-10\n",
      " 5.54146113e-11 1.91440325e-10 1.16567053e-10 5.94378269e-10\n",
      " 1.72816380e-10 3.67508352e-10 1.67050511e-08 1.05437431e-06]\n",
      "not reaching the requested tolerance 1e-08.\n",
      "  l, Vg = scipy.sparse.linalg.lobpcg(A_, X, M=None, tol=1e-8, largest=False,\n"
     ]
    },
    {
     "name": "stdout",
     "output_type": "stream",
     "text": [
      "Completed trial 0\n"
     ]
    },
    {
     "name": "stderr",
     "output_type": "stream",
     "text": [
      "/home/taanish/.conda/envs/manifold-learning/lib/python3.12/site-packages/sklearn/svm/_classes.py:31: FutureWarning: The default value of `dual` will change from `True` to `'auto'` in 1.5. Set the value of `dual` explicitly to suppress the warning.\n",
      "  warnings.warn(\n",
      "/home/taanish/trainer_library/Experiments/../manifoldlearning.py:162: UserWarning: Exited at iteration 1000 with accuracies \n",
      "[2.57843660e-09 1.00381756e-09 1.83462636e-09 1.65689235e-09\n",
      " 3.78474290e-11 3.60886249e-11 3.19295209e-11 6.34540294e-11\n",
      " 7.15823966e-11 5.97505840e-11 2.04340590e-11 4.20864675e-11\n",
      " 5.35452594e-11 3.32236881e-10 2.09830891e-10 4.03913063e-10\n",
      " 4.17656085e-10 1.34399986e-09 5.25498888e-09 1.76237332e-08]\n",
      "not reaching the requested tolerance 1e-08.\n",
      "Use iteration 971 instead with accuracy \n",
      "1.4949826514746709e-09.\n",
      "\n",
      "  l, Vg = scipy.sparse.linalg.lobpcg(A_, X, M=None, tol=1e-8, largest=False,\n",
      "/home/taanish/trainer_library/Experiments/../manifoldlearning.py:162: UserWarning: Exited postprocessing with accuracies \n",
      "[2.57884638e-09 1.00359548e-09 1.83455151e-09 1.65708927e-09\n",
      " 3.78685206e-11 3.60891575e-11 3.19445362e-11 6.35254160e-11\n",
      " 7.16506100e-11 5.98150037e-11 2.04646095e-11 4.21683338e-11\n",
      " 5.36391346e-11 3.32879998e-10 2.10229078e-10 4.04632301e-10\n",
      " 4.18639362e-10 1.40087482e-09 5.22441639e-09 1.44167025e-08]\n",
      "not reaching the requested tolerance 1e-08.\n",
      "  l, Vg = scipy.sparse.linalg.lobpcg(A_, X, M=None, tol=1e-8, largest=False,\n"
     ]
    },
    {
     "name": "stdout",
     "output_type": "stream",
     "text": [
      "Completed trial 1\n"
     ]
    },
    {
     "name": "stderr",
     "output_type": "stream",
     "text": [
      "/home/taanish/.conda/envs/manifold-learning/lib/python3.12/site-packages/sklearn/svm/_classes.py:31: FutureWarning: The default value of `dual` will change from `True` to `'auto'` in 1.5. Set the value of `dual` explicitly to suppress the warning.\n",
      "  warnings.warn(\n"
     ]
    },
    {
     "name": "stdout",
     "output_type": "stream",
     "text": [
      "Completed trial 2\n"
     ]
    },
    {
     "name": "stderr",
     "output_type": "stream",
     "text": [
      "/home/taanish/.conda/envs/manifold-learning/lib/python3.12/site-packages/sklearn/svm/_classes.py:31: FutureWarning: The default value of `dual` will change from `True` to `'auto'` in 1.5. Set the value of `dual` explicitly to suppress the warning.\n",
      "  warnings.warn(\n"
     ]
    },
    {
     "name": "stdout",
     "output_type": "stream",
     "text": [
      "Completed trial 3\n"
     ]
    },
    {
     "name": "stderr",
     "output_type": "stream",
     "text": [
      "/home/taanish/.conda/envs/manifold-learning/lib/python3.12/site-packages/sklearn/svm/_classes.py:31: FutureWarning: The default value of `dual` will change from `True` to `'auto'` in 1.5. Set the value of `dual` explicitly to suppress the warning.\n",
      "  warnings.warn(\n",
      "/home/taanish/trainer_library/Experiments/../manifoldlearning.py:162: UserWarning: Exited at iteration 1000 with accuracies \n",
      "[2.99261434e-02 8.56596791e-04 2.51687874e-04 5.97046031e-04\n",
      " 2.07287036e-03 3.68157620e-04 2.16065379e-04 3.50916310e-04\n",
      " 8.04992560e-04 2.72058904e-04 2.79101560e-04 3.14648897e-04\n",
      " 7.97947469e-04 1.02695086e-04 2.27789039e-04 2.57546106e-05\n",
      " 3.96868665e-04 2.28780281e-04 1.86610671e-03 5.89431843e-04]\n",
      "not reaching the requested tolerance 1e-08.\n",
      "Use iteration 409 instead with accuracy \n",
      "6.013538378188432e-08.\n",
      "\n",
      "  l, Vg = scipy.sparse.linalg.lobpcg(A_, X, M=None, tol=1e-8, largest=False,\n",
      "/home/taanish/trainer_library/Experiments/../manifoldlearning.py:162: UserWarning: Exited postprocessing with accuracies \n",
      "[1.16702370e-08 1.87442566e-08 1.26853909e-08 2.83298022e-08\n",
      " 2.32985269e-08 1.68524128e-08 6.87262400e-08 4.44536291e-08\n",
      " 3.85896892e-08 2.86761890e-08 3.63295362e-08 1.35212934e-07\n",
      " 2.44917648e-08 1.19803771e-07 1.38003894e-07 2.56200053e-08\n",
      " 7.25493603e-08 1.24495914e-07 1.21761886e-07 4.51814461e-08]\n",
      "not reaching the requested tolerance 1e-08.\n",
      "  l, Vg = scipy.sparse.linalg.lobpcg(A_, X, M=None, tol=1e-8, largest=False,\n"
     ]
    },
    {
     "name": "stdout",
     "output_type": "stream",
     "text": [
      "Completed trial 4\n",
      "Completed step 200\n"
     ]
    },
    {
     "name": "stderr",
     "output_type": "stream",
     "text": [
      "/home/taanish/.conda/envs/manifold-learning/lib/python3.12/site-packages/sklearn/svm/_classes.py:31: FutureWarning: The default value of `dual` will change from `True` to `'auto'` in 1.5. Set the value of `dual` explicitly to suppress the warning.\n",
      "  warnings.warn(\n",
      "/home/taanish/trainer_library/Experiments/../manifoldlearning.py:162: UserWarning: Exited at iteration 1000 with accuracies \n",
      "[3.85158788e-09 3.22246155e-09 3.79213914e-09 2.96963872e-09\n",
      " 5.63236382e-09 1.77777954e-09 2.81156810e-09 2.97311649e-09\n",
      " 2.75521648e-09 1.90066582e-09 3.30089762e-09 1.66313126e-09\n",
      " 2.64543586e-09 1.04904044e-09 9.21980094e-10 1.25433875e-09\n",
      " 2.57454088e-09 1.10731820e-09 4.68074497e-09 3.22064743e-07]\n",
      "not reaching the requested tolerance 1e-08.\n",
      "Use iteration 955 instead with accuracy \n",
      "1.100027122688726e-08.\n",
      "\n",
      "  l, Vg = scipy.sparse.linalg.lobpcg(A_, X, M=None, tol=1e-8, largest=False,\n",
      "/home/taanish/trainer_library/Experiments/../manifoldlearning.py:162: UserWarning: Exited postprocessing with accuracies \n",
      "[3.85527165e-09 3.22370721e-09 3.79330711e-09 2.96793996e-09\n",
      " 5.48246023e-09 1.76380813e-09 2.75480781e-09 2.95824948e-09\n",
      " 2.30930772e-09 1.81274263e-09 3.13349583e-09 1.54996875e-09\n",
      " 2.58009375e-09 6.99533889e-10 6.55396082e-10 9.59801060e-10\n",
      " 1.49815007e-09 7.18666870e-10 4.35775538e-09 1.68807741e-07]\n",
      "not reaching the requested tolerance 1e-08.\n",
      "  l, Vg = scipy.sparse.linalg.lobpcg(A_, X, M=None, tol=1e-8, largest=False,\n"
     ]
    },
    {
     "name": "stdout",
     "output_type": "stream",
     "text": [
      "Completed trial 0\n"
     ]
    },
    {
     "name": "stderr",
     "output_type": "stream",
     "text": [
      "/home/taanish/.conda/envs/manifold-learning/lib/python3.12/site-packages/sklearn/svm/_classes.py:31: FutureWarning: The default value of `dual` will change from `True` to `'auto'` in 1.5. Set the value of `dual` explicitly to suppress the warning.\n",
      "  warnings.warn(\n",
      "/home/taanish/trainer_library/Experiments/../manifoldlearning.py:162: UserWarning: Exited at iteration 1000 with accuracies \n",
      "[4.77684469e-09 3.87648080e-06 1.32419289e-06 4.90657323e-06\n",
      " 2.16745561e-06 2.11864852e-05 5.56013192e-06 8.62758382e-06\n",
      " 2.08415911e-06 2.64434173e-05 9.79127864e-07 1.24007225e-05\n",
      " 1.27981351e-05 4.08409388e-06 8.42321973e-06 4.65024010e-06\n",
      " 1.40704992e-06 1.41014601e-05 1.18800946e-05 9.81938037e-06]\n",
      "not reaching the requested tolerance 1e-08.\n",
      "Use iteration 811 instead with accuracy \n",
      "7.703634096950017e-06.\n",
      "\n",
      "  l, Vg = scipy.sparse.linalg.lobpcg(A_, X, M=None, tol=1e-8, largest=False,\n",
      "/home/taanish/trainer_library/Experiments/../manifoldlearning.py:162: UserWarning: Exited postprocessing with accuracies \n",
      "[4.70895934e-09 2.89822141e-06 9.98214199e-07 3.70097562e-06\n",
      " 1.67956737e-06 1.59731860e-05 4.68942306e-06 7.63116005e-06\n",
      " 1.57302799e-06 2.00726091e-05 7.57190559e-07 9.47904985e-06\n",
      " 9.81679837e-06 3.95767265e-06 7.16737386e-06 3.95946945e-06\n",
      " 1.14640306e-06 1.08131251e-05 9.58264435e-06 7.84188115e-06]\n",
      "not reaching the requested tolerance 1e-08.\n",
      "  l, Vg = scipy.sparse.linalg.lobpcg(A_, X, M=None, tol=1e-8, largest=False,\n"
     ]
    },
    {
     "name": "stdout",
     "output_type": "stream",
     "text": [
      "Completed trial 1\n"
     ]
    },
    {
     "name": "stderr",
     "output_type": "stream",
     "text": [
      "/home/taanish/.conda/envs/manifold-learning/lib/python3.12/site-packages/sklearn/svm/_classes.py:31: FutureWarning: The default value of `dual` will change from `True` to `'auto'` in 1.5. Set the value of `dual` explicitly to suppress the warning.\n",
      "  warnings.warn(\n"
     ]
    },
    {
     "name": "stdout",
     "output_type": "stream",
     "text": [
      "Completed trial 2\n"
     ]
    },
    {
     "name": "stderr",
     "output_type": "stream",
     "text": [
      "/home/taanish/.conda/envs/manifold-learning/lib/python3.12/site-packages/sklearn/svm/_classes.py:31: FutureWarning: The default value of `dual` will change from `True` to `'auto'` in 1.5. Set the value of `dual` explicitly to suppress the warning.\n",
      "  warnings.warn(\n",
      "/home/taanish/trainer_library/Experiments/../manifoldlearning.py:162: UserWarning: Exited at iteration 1000 with accuracies \n",
      "[4.29535707e-09 4.68709370e-09 2.13390642e-09 5.34922616e-10\n",
      " 3.53650569e-10 6.16953040e-11 1.46028427e-10 3.15527557e-11\n",
      " 6.85556066e-11 2.53602020e-11 8.78705553e-10 5.54734099e-10\n",
      " 9.28844769e-11 8.65928626e-10 2.08833811e-09 6.71983939e-10\n",
      " 1.75799479e-09 7.30602981e-09 3.67180538e-09 4.93153272e-08]\n",
      "not reaching the requested tolerance 1e-08.\n",
      "Use iteration 978 instead with accuracy \n",
      "2.9400385702880575e-09.\n",
      "\n",
      "  l, Vg = scipy.sparse.linalg.lobpcg(A_, X, M=None, tol=1e-8, largest=False,\n",
      "/home/taanish/trainer_library/Experiments/../manifoldlearning.py:162: UserWarning: Exited postprocessing with accuracies \n",
      "[4.29664246e-09 4.68866486e-09 2.13536490e-09 5.35529616e-10\n",
      " 3.68170517e-10 6.22070968e-11 1.51334533e-10 2.52741029e-11\n",
      " 7.13488913e-11 2.47763617e-11 9.20801643e-10 5.81789604e-10\n",
      " 9.44805999e-11 9.05787037e-10 2.17673397e-09 6.96333862e-10\n",
      " 1.82248683e-09 7.33889341e-09 3.66628890e-09 2.82059718e-08]\n",
      "not reaching the requested tolerance 1e-08.\n",
      "  l, Vg = scipy.sparse.linalg.lobpcg(A_, X, M=None, tol=1e-8, largest=False,\n"
     ]
    },
    {
     "name": "stdout",
     "output_type": "stream",
     "text": [
      "Completed trial 3\n"
     ]
    },
    {
     "name": "stderr",
     "output_type": "stream",
     "text": [
      "/home/taanish/.conda/envs/manifold-learning/lib/python3.12/site-packages/sklearn/svm/_classes.py:31: FutureWarning: The default value of `dual` will change from `True` to `'auto'` in 1.5. Set the value of `dual` explicitly to suppress the warning.\n",
      "  warnings.warn(\n",
      "/home/taanish/trainer_library/Experiments/../manifoldlearning.py:162: UserWarning: Exited at iteration 1000 with accuracies \n",
      "[3.00365205e-06 1.41269067e-06 4.21705736e-07 4.14322310e-06\n",
      " 1.38132239e-07 5.38096421e-07 1.84228502e-07 5.34364804e-07\n",
      " 3.05161300e-07 7.07812560e-07 2.37711709e-06 4.20199504e-07\n",
      " 6.83676699e-07 1.41086940e-06 4.46809868e-07 1.87659944e-06\n",
      " 6.81928780e-07 7.22344438e-07 1.64162092e-06 6.22807230e-07]\n",
      "not reaching the requested tolerance 1e-08.\n",
      "Use iteration 900 instead with accuracy \n",
      "2.4926936910859548e-08.\n",
      "\n",
      "  l, Vg = scipy.sparse.linalg.lobpcg(A_, X, M=None, tol=1e-8, largest=False,\n",
      "/home/taanish/trainer_library/Experiments/../manifoldlearning.py:162: UserWarning: Exited postprocessing with accuracies \n",
      "[3.32148329e-08 3.36638966e-08 5.74443431e-09 6.29590659e-09\n",
      " 7.24930879e-09 1.27042269e-08 6.71056320e-09 2.91965172e-08\n",
      " 1.12823563e-08 3.73344029e-08 1.83591029e-08 4.70599418e-08\n",
      " 3.34465643e-08 5.96984882e-09 3.01309034e-08 2.89015117e-08\n",
      " 7.82444907e-09 1.14294555e-08 1.07227607e-08 4.14609062e-08]\n",
      "not reaching the requested tolerance 1e-08.\n",
      "  l, Vg = scipy.sparse.linalg.lobpcg(A_, X, M=None, tol=1e-8, largest=False,\n"
     ]
    },
    {
     "name": "stdout",
     "output_type": "stream",
     "text": [
      "Completed trial 4\n",
      "Completed step 300\n"
     ]
    }
   ],
   "source": [
    "gsnn_101, osnn_101 = classifier.ClassificationExperiments.vary_neighbors(tester=cl, trials=5, steps=nn_steps)"
   ]
  },
  {
   "cell_type": "code",
   "execution_count": 96,
   "metadata": {},
   "outputs": [],
   "source": [
    "objs.append(gsnn_101)\n",
    "objs.append(osnn_101)"
   ]
  },
  {
   "cell_type": "code",
   "execution_count": 82,
   "metadata": {},
   "outputs": [
    {
     "data": {
      "image/png": "[encoded data removed]",
      "text/plain": [
       "<Figure size 640x480 with 1 Axes>"
      ]
     },
     "metadata": {},
     "output_type": "display_data"
    }
   ],
   "source": [
    "plt.scatter(nn_steps, osnn_101)\n",
    "plt.savefig(\"fm_osnn_101.png\")"
   ]
  },
  {
   "cell_type": "code",
   "execution_count": 83,
   "metadata": {},
   "outputs": [
    {
     "data": {
      "image/png": "[encoded data removed]",
      "text/plain": [
       "<Figure size 640x480 with 1 Axes>"
      ]
     },
     "metadata": {},
     "output_type": "display_data"
    }
   ],
   "source": [
    "plt.scatter(nn_steps, gsnn_101)\n",
    "plt.savefig(\"fm_gsnn_101.png\")"
   ]
  },
  {
   "cell_type": "code",
   "execution_count": null,
   "metadata": {},
   "outputs": [],
   "source": [
    "# 10000 labels, 20% labeled"
   ]
  },
  {
   "cell_type": "code",
   "execution_count": null,
   "metadata": {},
   "outputs": [],
   "source": [
    "cl_102 = classifier.ClassificationTests(X_10k, labels, 2000, 10000)"
   ]
  },
  {
   "cell_type": "code",
   "execution_count": null,
   "metadata": {},
   "outputs": [],
   "source": [
    "# first experiment: average scores"
   ]
  },
  {
   "cell_type": "code",
   "execution_count": null,
   "metadata": {},
   "outputs": [],
   "source": [
    "gs_102, os_102 = classifier.ClassificationExperiments.run(tester=cl_102, trials=3)"
   ]
  },
  {
   "cell_type": "code",
   "execution_count": null,
   "metadata": {},
   "outputs": [],
   "source": [
    "objs.append(gs_102)\n",
    "objs.append(os_102)"
   ]
  },
  {
   "cell_type": "code",
   "execution_count": null,
   "metadata": {},
   "outputs": [],
   "source": [
    "# second experiment: average scores, varying eigenvectors"
   ]
  },
  {
   "cell_type": "code",
   "execution_count": null,
   "metadata": {},
   "outputs": [],
   "source": [
    "gsve_102, osve_102 = classifier.ClassificationExperiments.vary_eigenvectors(tester=cl_102, trials=3, steps=steps)"
   ]
  },
  {
   "cell_type": "code",
   "execution_count": null,
   "metadata": {},
   "outputs": [],
   "source": [
    "objs.append(gsve_102)\n",
    "objs.append(osve_102)"
   ]
  },
  {
   "cell_type": "code",
   "execution_count": null,
   "metadata": {},
   "outputs": [],
   "source": [
    "plt.scatter(steps, osve_102)\n",
    "plt.savefig(\"fm_osve_102.png\")"
   ]
  },
  {
   "cell_type": "code",
   "execution_count": null,
   "metadata": {},
   "outputs": [],
   "source": [
    "plt.scatter(steps, gsve_102)\n",
    "plt.savefig(\"fm_osve_102.png\")"
   ]
  },
  {
   "cell_type": "code",
   "execution_count": null,
   "metadata": {},
   "outputs": [],
   "source": [
    "# third experiment: average scores, varying nearest neighbors"
   ]
  },
  {
   "cell_type": "code",
   "execution_count": null,
   "metadata": {},
   "outputs": [],
   "source": [
    "gsnn_102, osnn_102 = classifier.ClassificationExperiments.vary_neighbors(tester=cl_102, trials=3, steps=nn_steps)"
   ]
  },
  {
   "cell_type": "code",
   "execution_count": null,
   "metadata": {},
   "outputs": [],
   "source": [
    "objs.append(gsnn_102)\n",
    "objs.append(osnn_102)"
   ]
  },
  {
   "cell_type": "code",
   "execution_count": null,
   "metadata": {},
   "outputs": [],
   "source": [
    "plt.scatter(nn_steps, osnn_102)\n",
    "plt.savefig(\"fm_osnn_102.png\")"
   ]
  },
  {
   "cell_type": "code",
   "execution_count": null,
   "metadata": {},
   "outputs": [],
   "source": [
    "plt.scatter(nn_steps, gsnn_102)\n",
    "plt.savefig(\"fm_gsnn_102.png\")"
   ]
  },
  {
   "cell_type": "code",
   "execution_count": null,
   "metadata": {},
   "outputs": [],
   "source": [
    "# 20000 labels, 5% labeled"
   ]
  },
  {
   "cell_type": "code",
   "execution_count": null,
   "metadata": {},
   "outputs": [],
   "source": [
    "X_20k = X[:20000,:28,:28]"
   ]
  },
  {
   "cell_type": "code",
   "execution_count": null,
   "metadata": {},
   "outputs": [],
   "source": [
    "X_20k = np.reshape(X_20k, (20000, 784))"
   ]
  },
  {
   "cell_type": "code",
   "execution_count": null,
   "metadata": {},
   "outputs": [],
   "source": [
    "labels_20k = mnist.targets.numpy()[:20000]"
   ]
  },
  {
   "cell_type": "code",
   "execution_count": null,
   "metadata": {},
   "outputs": [],
   "source": [
    "cl_205 = classifier.ClassificationTests(X_20k, labels_20k, 1000, 20000)"
   ]
  },
  {
   "cell_type": "code",
   "execution_count": null,
   "metadata": {},
   "outputs": [],
   "source": [
    "# first experiment: average scores"
   ]
  },
  {
   "cell_type": "code",
   "execution_count": null,
   "metadata": {},
   "outputs": [],
   "source": [
    "gs_205, os_205 = classifier.ClassificationExperiments.run(tester=cl_205, trials=3)"
   ]
  },
  {
   "cell_type": "code",
   "execution_count": null,
   "metadata": {},
   "outputs": [],
   "source": [
    "objs.append(gs_205)\n",
    "objs.append(os_205)"
   ]
  },
  {
   "cell_type": "code",
   "execution_count": null,
   "metadata": {},
   "outputs": [],
   "source": [
    "# second experiment: average scores, varying eigenvectors"
   ]
  },
  {
   "cell_type": "code",
   "execution_count": null,
   "metadata": {},
   "outputs": [],
   "source": [
    "gsve_205, osve_205 = classifier.ClassificationExperiments.vary_eigenvectors(tester=cl_205, trials=3, steps=steps)"
   ]
  },
  {
   "cell_type": "code",
   "execution_count": null,
   "metadata": {},
   "outputs": [],
   "source": [
    "objs.append(gsve_205)\n",
    "objs.append(osve_205)"
   ]
  },
  {
   "cell_type": "code",
   "execution_count": null,
   "metadata": {},
   "outputs": [],
   "source": [
    "plt.scatter(steps, osve_205)\n",
    "plt.savefig(\"fm_osve_205.png\")"
   ]
  },
  {
   "cell_type": "code",
   "execution_count": null,
   "metadata": {},
   "outputs": [],
   "source": [
    "plt.scatter(steps, gsve_205)\n",
    "plt.savefig(\"fm_osve_205.png\")"
   ]
  },
  {
   "cell_type": "code",
   "execution_count": null,
   "metadata": {},
   "outputs": [],
   "source": [
    "# third experiment: average scores, varying nearest neighbors"
   ]
  },
  {
   "cell_type": "code",
   "execution_count": null,
   "metadata": {},
   "outputs": [],
   "source": [
    "gsnn_205, osnn_205 = classifier.ClassificationExperiments.vary_neighbors(tester=cl_205, trials=3, steps=nn_steps)"
   ]
  },
  {
   "cell_type": "code",
   "execution_count": null,
   "metadata": {},
   "outputs": [],
   "source": [
    "objs.append(gsnn_205)\n",
    "objs.append(osnn_205)"
   ]
  },
  {
   "cell_type": "code",
   "execution_count": null,
   "metadata": {},
   "outputs": [],
   "source": [
    "plt.scatter(nn_steps, osnn_205)\n",
    "plt.savefig(\"fm_osnn_205.png\")"
   ]
  },
  {
   "cell_type": "code",
   "execution_count": null,
   "metadata": {},
   "outputs": [],
   "source": [
    "plt.scatter(nn_steps, gsnn_205)\n",
    "plt.savefig(\"fm_gsnn_205.png\")"
   ]
  },
  {
   "cell_type": "code",
   "execution_count": null,
   "metadata": {},
   "outputs": [],
   "source": [
    "# 50000 labels, 10% labeled"
   ]
  },
  {
   "cell_type": "code",
   "execution_count": null,
   "metadata": {},
   "outputs": [],
   "source": [
    "X_50k = X[:50000,:28,:28]"
   ]
  },
  {
   "cell_type": "code",
   "execution_count": null,
   "metadata": {},
   "outputs": [],
   "source": [
    "X_50k = np.reshape(X_50k, (50000, 784))"
   ]
  },
  {
   "cell_type": "code",
   "execution_count": null,
   "metadata": {},
   "outputs": [],
   "source": [
    "labels_50k = mnist.targets.numpy()[:50000]"
   ]
  },
  {
   "cell_type": "code",
   "execution_count": null,
   "metadata": {},
   "outputs": [],
   "source": [
    "cl_510 = classifier.ClassificationTests(X_50k, labels_50k, 5000, 50000)"
   ]
  },
  {
   "cell_type": "code",
   "execution_count": null,
   "metadata": {},
   "outputs": [],
   "source": [
    "# first experiment: average scores"
   ]
  },
  {
   "cell_type": "code",
   "execution_count": null,
   "metadata": {},
   "outputs": [],
   "source": [
    "gs_510, os_510 = classifier.ClassificationExperiments.run(tester=cl_510, trials=3)"
   ]
  },
  {
   "cell_type": "code",
   "execution_count": null,
   "metadata": {},
   "outputs": [],
   "source": [
    "objs.append(gs_510)\n",
    "objs.append(os_510)"
   ]
  },
  {
   "cell_type": "code",
   "execution_count": null,
   "metadata": {},
   "outputs": [],
   "source": [
    "# second experiment: average scores, varying eigenvectors"
   ]
  },
  {
   "cell_type": "code",
   "execution_count": null,
   "metadata": {},
   "outputs": [],
   "source": [
    "gsve_510, osve_510 = classifier.ClassificationExperiments.vary_eigenvectors(tester=cl_510, trials=3, steps=steps)"
   ]
  },
  {
   "cell_type": "code",
   "execution_count": null,
   "metadata": {},
   "outputs": [],
   "source": [
    "objs.append(gsve_510)\n",
    "objs.append(osve_510)"
   ]
  },
  {
   "cell_type": "code",
   "execution_count": null,
   "metadata": {},
   "outputs": [],
   "source": [
    "plt.scatter(steps, osve_510)\n",
    "plt.savefig(\"fm_osve_510.png\")"
   ]
  },
  {
   "cell_type": "code",
   "execution_count": null,
   "metadata": {},
   "outputs": [],
   "source": [
    "plt.scatter(steps, gsve_510)\n",
    "plt.savefig(\"fm_gsve_510.png\")"
   ]
  },
  {
   "cell_type": "code",
   "execution_count": null,
   "metadata": {},
   "outputs": [],
   "source": [
    "# third experiment: average scores, varying nearest neighbors"
   ]
  },
  {
   "cell_type": "code",
   "execution_count": null,
   "metadata": {},
   "outputs": [],
   "source": [
    "gsnn_510, osnn_510 = classifier.ClassificationExperiments.vary_neighbors(tester=cl_510, trials=3, steps=nn_steps)"
   ]
  },
  {
   "cell_type": "code",
   "execution_count": null,
   "metadata": {},
   "outputs": [],
   "source": [
    "objs.append(gsnn_510)\n",
    "objs.append(osnn_510)"
   ]
  },
  {
   "cell_type": "code",
   "execution_count": null,
   "metadata": {},
   "outputs": [],
   "source": [
    "plt.scatter(nn_steps, osnn_510)\n",
    "plt.savefig(\"fm_osnn_510.png\")"
   ]
  },
  {
   "cell_type": "code",
   "execution_count": null,
   "metadata": {},
   "outputs": [],
   "source": [
    "plt.scatter(nn_steps, gsnn_510)\n",
    "plt.savefig(\"fm_gsnn_510.png\")"
   ]
  },
  {
   "cell_type": "code",
   "execution_count": null,
   "metadata": {},
   "outputs": [],
   "source": [
    "save_object(objs, \"fm_objects\")"
   ]
  }
 ],
 "metadata": {
  "kernelspec": {
   "display_name": "manifold-learning",
   "language": "python",
   "name": "manifold-learning"
  },
  "language_info": {
   "codemirror_mode": {
    "name": "ipython",
    "version": 3
   },
   "file_extension": ".py",
   "mimetype": "text/x-python",
   "name": "python",
   "nbconvert_exporter": "python",
   "pygments_lexer": "ipython3",
   "version": "3.12.3"
  }
 },
 "nbformat": 4,
 "nbformat_minor": 2
}
