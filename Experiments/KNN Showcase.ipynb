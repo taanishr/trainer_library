{
 "cells": [
  {
   "cell_type": "code",
   "execution_count": 1,
   "metadata": {},
   "outputs": [],
   "source": [
    "%load_ext autoreload"
   ]
  },
  {
   "cell_type": "code",
   "execution_count": 2,
   "metadata": {},
   "outputs": [],
   "source": [
    "%autoreload 2"
   ]
  },
  {
   "cell_type": "code",
   "execution_count": 3,
   "metadata": {},
   "outputs": [],
   "source": [
    "import numpy as np\n",
    "import scipy.integrate as integrate\n",
    "from scipy.optimize import fsolve\n",
    "import scipy\n",
    "from scipy.spatial.distance import cdist\n",
    "from sklearn.decomposition import PCA\n",
    "from sklearn import manifold\n",
    "from sklearn import svm\n",
    "import scipy.misc\n",
    "\n",
    "import graphlearning as gl\n",
    "\n",
    "import matplotlib.pyplot as plt"
   ]
  },
  {
   "cell_type": "code",
   "execution_count": 4,
   "metadata": {},
   "outputs": [],
   "source": [
    "from sklearn import linear_model as linear\n",
    "from sklearn import metrics as metrics"
   ]
  },
  {
   "cell_type": "code",
   "execution_count": 5,
   "metadata": {},
   "outputs": [],
   "source": [
    "from torchvision import datasets, transforms"
   ]
  },
  {
   "cell_type": "code",
   "execution_count": 6,
   "metadata": {},
   "outputs": [],
   "source": [
    "import sys"
   ]
  },
  {
   "cell_type": "code",
   "execution_count": 7,
   "metadata": {},
   "outputs": [],
   "source": [
    "sys.path.append('../')"
   ]
  },
  {
   "cell_type": "code",
   "execution_count": 8,
   "metadata": {},
   "outputs": [],
   "source": [
    "import knn"
   ]
  },
  {
   "cell_type": "code",
   "execution_count": 9,
   "metadata": {},
   "outputs": [],
   "source": [
    "fmnist = datasets.FashionMNIST(\"/home/taanish/FashionMNIST\", train=True, download=False)"
   ]
  },
  {
   "cell_type": "code",
   "execution_count": 10,
   "metadata": {},
   "outputs": [],
   "source": [
    "X = fmnist.data.numpy()"
   ]
  },
  {
   "cell_type": "code",
   "execution_count": 11,
   "metadata": {},
   "outputs": [],
   "source": [
    "X_10k = X[:10000,:28,:28]"
   ]
  },
  {
   "cell_type": "code",
   "execution_count": 12,
   "metadata": {},
   "outputs": [],
   "source": [
    "X_10k = np.reshape(X_10k, (10000, 784))"
   ]
  },
  {
   "cell_type": "code",
   "execution_count": 14,
   "metadata": {},
   "outputs": [],
   "source": [
    "labels_10k = fmnist.targets.numpy()[:10000]"
   ]
  },
  {
   "cell_type": "code",
   "execution_count": 18,
   "metadata": {},
   "outputs": [],
   "source": [
    "k = knn.KNNTests(X_10k, 10000, 1000)"
   ]
  },
  {
   "cell_type": "code",
   "execution_count": 20,
   "metadata": {},
   "outputs": [
    {
     "name": "stderr",
     "output_type": "stream",
     "text": [
      "/home/taanish/trainer_library/Experiments/../manifoldlearning.py:162: UserWarning: Exited at iteration 1000 with accuracies \n",
      "[1.96884783e-09 2.07629208e-10 1.66492697e-10 6.19701319e-10\n",
      " 1.68988618e-09 1.83035179e-09 8.02556843e-10 1.38827911e-09\n",
      " 6.33275552e-09 1.62998414e-06]\n",
      "not reaching the requested tolerance 1e-08.\n",
      "Use iteration 996 instead with accuracy \n",
      "1.5456266140936413e-07.\n",
      "\n",
      "  l, Vg = scipy.sparse.linalg.lobpcg(A_, X, M=None, tol=1e-8, largest=False,\n",
      "/home/taanish/trainer_library/Experiments/../manifoldlearning.py:162: UserWarning: Exited postprocessing with accuracies \n",
      "[1.96903396e-09 2.07688920e-10 1.66571286e-10 6.19763352e-10\n",
      " 1.69002542e-09 1.83160455e-09 8.08025202e-10 1.39205569e-09\n",
      " 5.92433657e-09 1.53101258e-06]\n",
      "not reaching the requested tolerance 1e-08.\n",
      "  l, Vg = scipy.sparse.linalg.lobpcg(A_, X, M=None, tol=1e-8, largest=False,\n"
     ]
    }
   ],
   "source": [
    "k_scs = knn.vary_knn(k=k, steps=[10,20,50,100])"
   ]
  },
  {
   "cell_type": "code",
   "execution_count": 23,
   "metadata": {},
   "outputs": [
    {
     "data": {
      "text/plain": [
       "[<matplotlib.lines.Line2D at 0x7fbf0951a7e0>]"
      ]
     },
     "execution_count": 23,
     "metadata": {},
     "output_type": "execute_result"
    },
    {
     "data": {
      "image/png": "[encoded data removed]",
      "text/plain": [
       "<Figure size 640x480 with 1 Axes>"
      ]
     },
     "metadata": {},
     "output_type": "display_data"
    }
   ],
   "source": [
    "plt.plot([10,20,50,100], k_scs)"
   ]
  },
  {
   "cell_type": "code",
   "execution_count": 30,
   "metadata": {},
   "outputs": [
    {
     "name": "stdout",
     "output_type": "stream",
     "text": [
      "img ind 167\n",
      "Label of image: 7\n",
      "X value: 142\n",
      "Y value: 473\n",
      "NN using normal KNN: 7\n",
      "NN using oose KNN: 7\n",
      "X value: 1073\n",
      "Y value: 539\n",
      "NN using normal KNN: 7\n",
      "NN using oose KNN: 7\n",
      "X value: 2362\n",
      "Y value: 2869\n",
      "NN using normal KNN: 7\n",
      "NN using oose KNN: 7\n",
      "X value: 3519\n",
      "Y value: 3314\n",
      "NN using normal KNN: 7\n",
      "NN using oose KNN: 7\n",
      "X value: 4352\n",
      "Y value: 3693\n",
      "NN using normal KNN: 7\n",
      "NN using oose KNN: 7\n",
      "X value: 5698\n",
      "Y value: 6053\n",
      "NN using normal KNN: 7\n",
      "NN using oose KNN: 7\n",
      "X value: 7500\n",
      "Y value: 6353\n",
      "NN using normal KNN: 7\n",
      "NN using oose KNN: 7\n",
      "X value: 7645\n",
      "Y value: 7621\n",
      "NN using normal KNN: 7\n",
      "NN using oose KNN: 7\n",
      "X value: 7935\n",
      "Y value: 8218\n",
      "NN using normal KNN: 7\n",
      "NN using oose KNN: 7\n",
      "X value: 8050\n",
      "Y value: 8666\n",
      "NN using normal KNN: 7\n",
      "NN using oose KNN: 7\n"
     ]
    },
    {
     "name": "stderr",
     "output_type": "stream",
     "text": [
      "/home/taanish/trainer_library/Experiments/../manifoldlearning.py:162: UserWarning: Exited at iteration 1000 with accuracies \n",
      "[4.60064611e-09 4.75437121e-09 3.64998454e-09 4.64610541e-09\n",
      " 5.63314957e-09 8.61794053e-09 5.93551631e-08 1.28266339e-08\n",
      " 1.98614416e-07 3.91964209e-08]\n",
      "not reaching the requested tolerance 1e-08.\n",
      "Use iteration 493 instead with accuracy \n",
      "1.7219310616258834e-08.\n",
      "\n",
      "  l, Vg = scipy.sparse.linalg.lobpcg(A_, X, M=None, tol=1e-8, largest=False,\n",
      "/home/taanish/trainer_library/Experiments/../manifoldlearning.py:162: UserWarning: Exited postprocessing with accuracies \n",
      "[4.61002305e-09 4.76104116e-09 3.62951642e-09 4.46665995e-09\n",
      " 5.64592791e-09 4.73605502e-09 1.12853356e-08 2.94280434e-09\n",
      " 3.82557927e-08 7.53217782e-09]\n",
      "not reaching the requested tolerance 1e-08.\n",
      "  l, Vg = scipy.sparse.linalg.lobpcg(A_, X, M=None, tol=1e-8, largest=False,\n"
     ]
    },
    {
     "name": "stdout",
     "output_type": "stream",
     "text": [
      "img ind 6001\n",
      "Label of image: 8\n",
      "X value: 1053\n",
      "Y value: 308\n",
      "NN using normal KNN: 8\n",
      "NN using oose KNN: 8\n",
      "X value: 3596\n",
      "Y value: 1053\n",
      "NN using normal KNN: 8\n",
      "NN using oose KNN: 8\n",
      "X value: 3923\n",
      "Y value: 1424\n",
      "NN using normal KNN: 8\n",
      "NN using oose KNN: 8\n",
      "X value: 4707\n",
      "Y value: 1781\n",
      "NN using normal KNN: 8\n",
      "NN using oose KNN: 8\n",
      "X value: 4876\n",
      "Y value: 2150\n",
      "NN using normal KNN: 8\n",
      "NN using oose KNN: 8\n",
      "X value: 5482\n",
      "Y value: 2661\n",
      "NN using normal KNN: 8\n",
      "NN using oose KNN: 8\n",
      "X value: 6013\n",
      "Y value: 2733\n",
      "NN using normal KNN: 8\n",
      "NN using oose KNN: 8\n",
      "X value: 8004\n",
      "Y value: 3988\n",
      "NN using normal KNN: 8\n",
      "NN using oose KNN: 2\n",
      "X value: 8238\n",
      "Y value: 6213\n",
      "NN using normal KNN: 8\n",
      "NN using oose KNN: 8\n",
      "X value: 8358\n",
      "Y value: 8824\n",
      "NN using normal KNN: 8\n",
      "NN using oose KNN: 8\n",
      "img ind 4312\n",
      "Label of image: 9\n",
      "X value: 1181\n",
      "Y value: 1029\n",
      "NN using normal KNN: 9\n",
      "NN using oose KNN: 9\n",
      "X value: 1456\n",
      "Y value: 1456\n",
      "NN using normal KNN: 7\n",
      "NN using oose KNN: 7\n",
      "X value: 1529\n",
      "Y value: 1804\n",
      "NN using normal KNN: 9\n",
      "NN using oose KNN: 9\n",
      "X value: 1804\n",
      "Y value: 2513\n",
      "NN using normal KNN: 9\n",
      "NN using oose KNN: 9\n",
      "X value: 5438\n",
      "Y value: 3247\n",
      "NN using normal KNN: 9\n",
      "NN using oose KNN: 5\n",
      "X value: 5524\n",
      "Y value: 3697\n",
      "NN using normal KNN: 9\n",
      "NN using oose KNN: 5\n",
      "X value: 5707\n",
      "Y value: 4468\n",
      "NN using normal KNN: 9\n",
      "NN using oose KNN: 5\n",
      "X value: 6544\n",
      "Y value: 4830\n",
      "NN using normal KNN: 9\n",
      "NN using oose KNN: 5\n",
      "X value: 6746\n",
      "Y value: 6121\n",
      "NN using normal KNN: 9\n",
      "NN using oose KNN: 5\n",
      "X value: 8003\n",
      "Y value: 6778\n",
      "NN using normal KNN: 9\n",
      "NN using oose KNN: 9\n"
     ]
    },
    {
     "name": "stderr",
     "output_type": "stream",
     "text": [
      "/home/taanish/trainer_library/Experiments/../manifoldlearning.py:162: UserWarning: Exited at iteration 1000 with accuracies \n",
      "[6.03031327e-09 5.66478958e-11 1.15311705e-10 9.60473585e-11\n",
      " 1.12609503e-10 9.08651443e-11 3.39648503e-11 5.35654892e-10\n",
      " 2.91594561e-08 4.31698811e-07]\n",
      "not reaching the requested tolerance 1e-08.\n",
      "Use iteration 1001 instead with accuracy \n",
      "4.6792968169672575e-08.\n",
      "\n",
      "  l, Vg = scipy.sparse.linalg.lobpcg(A_, X, M=None, tol=1e-8, largest=False,\n",
      "/home/taanish/trainer_library/Experiments/../manifoldlearning.py:162: UserWarning: Exited postprocessing with accuracies \n",
      "[6.03031238e-09 5.64954220e-11 1.15164080e-10 9.59533877e-11\n",
      " 1.12607811e-10 9.07392633e-11 3.30847623e-11 5.35498165e-10\n",
      " 2.91593432e-08 4.31698819e-07]\n",
      "not reaching the requested tolerance 1e-08.\n",
      "  l, Vg = scipy.sparse.linalg.lobpcg(A_, X, M=None, tol=1e-8, largest=False,\n"
     ]
    },
    {
     "name": "stdout",
     "output_type": "stream",
     "text": [
      "img ind 1191\n",
      "Label of image: 5\n",
      "X value: 345\n",
      "Y value: 498\n",
      "NN using normal KNN: 5\n",
      "NN using oose KNN: 5\n",
      "X value: 850\n",
      "Y value: 850\n",
      "NN using normal KNN: 5\n",
      "NN using oose KNN: 5\n",
      "X value: 1291\n",
      "Y value: 1294\n",
      "NN using normal KNN: 5\n",
      "NN using oose KNN: 5\n",
      "X value: 1595\n",
      "Y value: 3311\n",
      "NN using normal KNN: 5\n",
      "NN using oose KNN: 5\n",
      "X value: 3276\n",
      "Y value: 3561\n",
      "NN using normal KNN: 7\n",
      "NN using oose KNN: 5\n",
      "X value: 4010\n",
      "Y value: 4369\n",
      "NN using normal KNN: 5\n",
      "NN using oose KNN: 5\n",
      "X value: 5006\n",
      "Y value: 4595\n",
      "NN using normal KNN: 5\n",
      "NN using oose KNN: 5\n",
      "X value: 6751\n",
      "Y value: 4987\n",
      "NN using normal KNN: 7\n",
      "NN using oose KNN: 5\n",
      "X value: 7576\n",
      "Y value: 7320\n",
      "NN using normal KNN: 7\n",
      "NN using oose KNN: 5\n",
      "X value: 8726\n",
      "Y value: 7929\n",
      "NN using normal KNN: 5\n",
      "NN using oose KNN: 5\n"
     ]
    },
    {
     "name": "stderr",
     "output_type": "stream",
     "text": [
      "/home/taanish/trainer_library/Experiments/../manifoldlearning.py:162: UserWarning: Exited at iteration 1000 with accuracies \n",
      "[1.91916716e-09 2.58893887e-10 1.25645543e-10 3.51352108e-11\n",
      " 4.82864962e-11 8.27301736e-11 4.25762161e-11 4.88459228e-10\n",
      " 2.99428729e-09 5.59197051e-07]\n",
      "not reaching the requested tolerance 1e-08.\n",
      "Use iteration 998 instead with accuracy \n",
      "5.6008779969486185e-08.\n",
      "\n",
      "  l, Vg = scipy.sparse.linalg.lobpcg(A_, X, M=None, tol=1e-8, largest=False,\n",
      "/home/taanish/trainer_library/Experiments/../manifoldlearning.py:162: UserWarning: Exited postprocessing with accuracies \n",
      "[1.91984105e-09 2.58807237e-10 1.25574062e-10 3.35734327e-11\n",
      " 4.82095118e-11 8.24696415e-11 4.19851443e-11 4.90752130e-10\n",
      " 3.05467443e-09 5.54029730e-07]\n",
      "not reaching the requested tolerance 1e-08.\n",
      "  l, Vg = scipy.sparse.linalg.lobpcg(A_, X, M=None, tol=1e-8, largest=False,\n"
     ]
    },
    {
     "name": "stdout",
     "output_type": "stream",
     "text": [
      "img ind 3447\n",
      "Label of image: 2\n",
      "X value: 1475\n",
      "Y value: 2087\n",
      "NN using normal KNN: 2\n",
      "NN using oose KNN: 2\n",
      "X value: 1961\n",
      "Y value: 2134\n",
      "NN using normal KNN: 2\n",
      "NN using oose KNN: 2\n",
      "X value: 2087\n",
      "Y value: 4387\n",
      "NN using normal KNN: 2\n",
      "NN using oose KNN: 6\n",
      "X value: 3475\n",
      "Y value: 4400\n",
      "NN using normal KNN: 6\n",
      "NN using oose KNN: 4\n",
      "X value: 3728\n",
      "Y value: 4764\n",
      "NN using normal KNN: 8\n",
      "NN using oose KNN: 4\n",
      "X value: 3792\n",
      "Y value: 5172\n",
      "NN using normal KNN: 6\n",
      "NN using oose KNN: 2\n",
      "X value: 4691\n",
      "Y value: 6810\n",
      "NN using normal KNN: 2\n",
      "NN using oose KNN: 8\n",
      "X value: 5669\n",
      "Y value: 8184\n",
      "NN using normal KNN: 2\n",
      "NN using oose KNN: 6\n",
      "X value: 5697\n",
      "Y value: 8352\n",
      "NN using normal KNN: 6\n",
      "NN using oose KNN: 6\n",
      "X value: 6400\n",
      "Y value: 8844\n",
      "NN using normal KNN: 6\n",
      "NN using oose KNN: 6\n"
     ]
    }
   ],
   "source": [
    "c_scs_orig = []\n",
    "c_scs_knn = []\n",
    "for i in range(5):\n",
    "    orig_s, knn_s = knn.compare_distributions(k,labels_10k)\n",
    "    c_scs_orig.append(orig_s)\n",
    "    c_scs_knn.append(knn_s)"
   ]
  },
  {
   "cell_type": "code",
   "execution_count": 31,
   "metadata": {},
   "outputs": [
    {
     "data": {
      "text/plain": [
       "0.82"
      ]
     },
     "execution_count": 31,
     "metadata": {},
     "output_type": "execute_result"
    }
   ],
   "source": [
    "np.mean(c_scs_orig) "
   ]
  },
  {
   "cell_type": "code",
   "execution_count": 32,
   "metadata": {},
   "outputs": [
    {
     "data": {
      "text/plain": [
       "0.72"
      ]
     },
     "execution_count": 32,
     "metadata": {},
     "output_type": "execute_result"
    }
   ],
   "source": [
    "np.mean(c_scs_knn) "
   ]
  },
  {
   "cell_type": "code",
   "execution_count": 33,
   "metadata": {},
   "outputs": [],
   "source": [
    "X_20k = X[:20000,:28,:28]"
   ]
  },
  {
   "cell_type": "code",
   "execution_count": 34,
   "metadata": {},
   "outputs": [],
   "source": [
    "X_20k = np.reshape(X_20k, (20000, 784))"
   ]
  },
  {
   "cell_type": "code",
   "execution_count": 35,
   "metadata": {},
   "outputs": [],
   "source": [
    "labels_20k = fmnist.targets.numpy()[:20000]"
   ]
  },
  {
   "cell_type": "code",
   "execution_count": 36,
   "metadata": {},
   "outputs": [],
   "source": [
    "k_20k = knn.KNNTests(X_20k, 20000, 1000)"
   ]
  },
  {
   "cell_type": "code",
   "execution_count": 37,
   "metadata": {},
   "outputs": [
    {
     "name": "stderr",
     "output_type": "stream",
     "text": [
      "/home/taanish/trainer_library/Experiments/../manifoldlearning.py:177: RuntimeWarning: divide by zero encountered in reciprocal\n",
      "  d0 = np.array(np.reciprocal(W0.sum(-1))).squeeze()\n"
     ]
    }
   ],
   "source": [
    "k_scs_20 = knn.vary_knn(k=k_20k, steps=[10,20,50,100])"
   ]
  },
  {
   "cell_type": "code",
   "execution_count": 38,
   "metadata": {},
   "outputs": [
    {
     "data": {
      "text/plain": [
       "[<matplotlib.lines.Line2D at 0x7fbf0900dca0>]"
      ]
     },
     "execution_count": 38,
     "metadata": {},
     "output_type": "execute_result"
    },
    {
     "data": {
      "image/png": "[encoded data removed]",
      "text/plain": [
       "<Figure size 640x480 with 1 Axes>"
      ]
     },
     "metadata": {},
     "output_type": "display_data"
    }
   ],
   "source": [
    "plt.plot([10,20,50,100], k_scs_20)"
   ]
  },
  {
   "cell_type": "code",
   "execution_count": 42,
   "metadata": {},
   "outputs": [
    {
     "name": "stderr",
     "output_type": "stream",
     "text": [
      "/home/taanish/trainer_library/Experiments/../manifoldlearning.py:177: RuntimeWarning: divide by zero encountered in reciprocal\n",
      "  d0 = np.array(np.reciprocal(W0.sum(-1))).squeeze()\n"
     ]
    },
    {
     "name": "stdout",
     "output_type": "stream",
     "text": [
      "img ind 13794\n",
      "Label of image: 2\n",
      "X value: 216\n",
      "Y value: 6846\n",
      "NN using normal KNN: 2\n",
      "NN using oose KNN: 6\n",
      "X value: 269\n",
      "Y value: 8263\n",
      "NN using normal KNN: 4\n",
      "NN using oose KNN: 6\n",
      "X value: 4655\n",
      "Y value: 8845\n",
      "NN using normal KNN: 4\n",
      "NN using oose KNN: 2\n",
      "X value: 7612\n",
      "Y value: 9034\n",
      "NN using normal KNN: 2\n",
      "NN using oose KNN: 6\n",
      "X value: 8295\n",
      "Y value: 9975\n",
      "NN using normal KNN: 2\n",
      "NN using oose KNN: 4\n",
      "X value: 12328\n",
      "Y value: 11527\n",
      "NN using normal KNN: 4\n",
      "NN using oose KNN: 6\n",
      "X value: 13982\n",
      "Y value: 12950\n",
      "NN using normal KNN: 2\n",
      "NN using oose KNN: 4\n",
      "X value: 16434\n",
      "Y value: 14528\n",
      "NN using normal KNN: 4\n",
      "NN using oose KNN: 6\n",
      "X value: 17330\n",
      "Y value: 15184\n",
      "NN using normal KNN: 2\n",
      "NN using oose KNN: 8\n",
      "X value: 18196\n",
      "Y value: 17460\n",
      "NN using normal KNN: 2\n",
      "NN using oose KNN: 2\n"
     ]
    },
    {
     "name": "stderr",
     "output_type": "stream",
     "text": [
      "/home/taanish/trainer_library/Experiments/../manifoldlearning.py:162: UserWarning: Exited at iteration 1000 with accuracies \n",
      "[3.39718236e-09 1.57795611e-09 3.04661255e-09 2.11483768e-09\n",
      " 3.66304264e-09 8.69251993e-09 1.32952178e-09 2.82855721e-09\n",
      " 1.20690545e-07 1.59080307e-06]\n",
      "not reaching the requested tolerance 1e-08.\n",
      "Use iteration 867 instead with accuracy \n",
      "1.2529186243373377e-07.\n",
      "\n",
      "  l, Vg = scipy.sparse.linalg.lobpcg(A_, X, M=None, tol=1e-8, largest=False,\n",
      "/home/taanish/trainer_library/Experiments/../manifoldlearning.py:162: UserWarning: Exited postprocessing with accuracies \n",
      "[3.39881984e-09 1.56837257e-09 3.02782014e-09 1.47460421e-09\n",
      " 1.94119796e-09 4.62081866e-09 1.09762102e-09 2.42899069e-09\n",
      " 5.48778968e-08 7.24097621e-07]\n",
      "not reaching the requested tolerance 1e-08.\n",
      "  l, Vg = scipy.sparse.linalg.lobpcg(A_, X, M=None, tol=1e-8, largest=False,\n",
      "/home/taanish/trainer_library/Experiments/../manifoldlearning.py:177: RuntimeWarning: divide by zero encountered in reciprocal\n",
      "  d0 = np.array(np.reciprocal(W0.sum(-1))).squeeze()\n"
     ]
    },
    {
     "name": "stdout",
     "output_type": "stream",
     "text": [
      "img ind 3185\n",
      "Label of image: 6\n",
      "X value: 1992\n",
      "Y value: 2956\n",
      "NN using normal KNN: 6\n",
      "NN using oose KNN: 3\n",
      "X value: 4351\n",
      "Y value: 3538\n",
      "NN using normal KNN: 4\n",
      "NN using oose KNN: 6\n",
      "X value: 7305\n",
      "Y value: 3998\n",
      "NN using normal KNN: 4\n",
      "NN using oose KNN: 3\n",
      "X value: 9055\n",
      "Y value: 5848\n",
      "NN using normal KNN: 4\n",
      "NN using oose KNN: 2\n",
      "X value: 10898\n",
      "Y value: 7335\n",
      "NN using normal KNN: 4\n",
      "NN using oose KNN: 3\n",
      "X value: 11787\n",
      "Y value: 7613\n",
      "NN using normal KNN: 6\n",
      "NN using oose KNN: 6\n",
      "X value: 14161\n",
      "Y value: 9150\n",
      "NN using normal KNN: 4\n",
      "NN using oose KNN: 3\n",
      "X value: 15612\n",
      "Y value: 10186\n",
      "NN using normal KNN: 4\n",
      "NN using oose KNN: 3\n",
      "X value: 15910\n",
      "Y value: 14296\n",
      "NN using normal KNN: 4\n",
      "NN using oose KNN: 6\n",
      "X value: 17210\n",
      "Y value: 18630\n",
      "NN using normal KNN: 4\n",
      "NN using oose KNN: 3\n"
     ]
    },
    {
     "name": "stderr",
     "output_type": "stream",
     "text": [
      "/home/taanish/trainer_library/Experiments/../manifoldlearning.py:162: UserWarning: Exited at iteration 590 with accuracies \n",
      "[8.56994153e-08 5.15895765e-08 1.66203620e-08 7.14179172e-08\n",
      " 1.13753900e-08 1.54571046e-08 7.86957693e-09 9.57166427e-09\n",
      " 2.37198330e-09 9.85645796e-09]\n",
      "not reaching the requested tolerance 1e-08.\n",
      "Use iteration 590 instead with accuracy \n",
      "2.8182944805078284e-08.\n",
      "\n",
      "  l, Vg = scipy.sparse.linalg.lobpcg(A_, X, M=None, tol=1e-8, largest=False,\n",
      "/home/taanish/trainer_library/Experiments/../manifoldlearning.py:162: UserWarning: Exited postprocessing with accuracies \n",
      "[8.56996509e-08 5.15898034e-08 1.66204513e-08 7.14184761e-08\n",
      " 1.13755109e-08 1.54575266e-08 7.87001430e-09 9.57416598e-09\n",
      " 2.37252399e-09 9.85247615e-09]\n",
      "not reaching the requested tolerance 1e-08.\n",
      "  l, Vg = scipy.sparse.linalg.lobpcg(A_, X, M=None, tol=1e-8, largest=False,\n",
      "/home/taanish/trainer_library/Experiments/../manifoldlearning.py:177: RuntimeWarning: divide by zero encountered in reciprocal\n",
      "  d0 = np.array(np.reciprocal(W0.sum(-1))).squeeze()\n"
     ]
    },
    {
     "name": "stdout",
     "output_type": "stream",
     "text": [
      "img ind 9298\n",
      "Label of image: 2\n",
      "X value: 224\n",
      "Y value: 2103\n",
      "NN using normal KNN: 4\n",
      "NN using oose KNN: 4\n",
      "X value: 1247\n",
      "Y value: 2117\n",
      "NN using normal KNN: 4\n",
      "NN using oose KNN: 4\n",
      "X value: 1249\n",
      "Y value: 2118\n",
      "NN using normal KNN: 4\n",
      "NN using oose KNN: 4\n",
      "X value: 2103\n",
      "Y value: 7041\n",
      "NN using normal KNN: 4\n",
      "NN using oose KNN: 6\n",
      "X value: 2117\n",
      "Y value: 7347\n",
      "NN using normal KNN: 4\n",
      "NN using oose KNN: 4\n",
      "X value: 9988\n",
      "Y value: 8131\n",
      "NN using normal KNN: 4\n",
      "NN using oose KNN: 4\n",
      "X value: 13105\n",
      "Y value: 11116\n",
      "NN using normal KNN: 6\n",
      "NN using oose KNN: 4\n",
      "X value: 15151\n",
      "Y value: 11956\n",
      "NN using normal KNN: 4\n",
      "NN using oose KNN: 4\n",
      "X value: 16471\n",
      "Y value: 15336\n",
      "NN using normal KNN: 2\n",
      "NN using oose KNN: 2\n",
      "X value: 17653\n",
      "Y value: 17279\n",
      "NN using normal KNN: 4\n",
      "NN using oose KNN: 4\n"
     ]
    },
    {
     "name": "stderr",
     "output_type": "stream",
     "text": [
      "/home/taanish/trainer_library/Experiments/../manifoldlearning.py:177: RuntimeWarning: divide by zero encountered in reciprocal\n",
      "  d0 = np.array(np.reciprocal(W0.sum(-1))).squeeze()\n"
     ]
    },
    {
     "name": "stdout",
     "output_type": "stream",
     "text": [
      "img ind 8705\n",
      "Label of image: 7\n",
      "X value: 1755\n",
      "Y value: 5417\n",
      "NN using normal KNN: 7\n",
      "NN using oose KNN: 7\n",
      "X value: 2972\n",
      "Y value: 6333\n",
      "NN using normal KNN: 7\n",
      "NN using oose KNN: 7\n",
      "X value: 4316\n",
      "Y value: 7579\n",
      "NN using normal KNN: 7\n",
      "NN using oose KNN: 7\n",
      "X value: 5856\n",
      "Y value: 9250\n",
      "NN using normal KNN: 7\n",
      "NN using oose KNN: 7\n",
      "X value: 7579\n",
      "Y value: 9545\n",
      "NN using normal KNN: 7\n",
      "NN using oose KNN: 7\n",
      "X value: 12129\n",
      "Y value: 9558\n",
      "NN using normal KNN: 7\n",
      "NN using oose KNN: 7\n",
      "X value: 12168\n",
      "Y value: 10307\n",
      "NN using normal KNN: 7\n",
      "NN using oose KNN: 7\n",
      "X value: 15477\n",
      "Y value: 12227\n",
      "NN using normal KNN: 7\n",
      "NN using oose KNN: 7\n",
      "X value: 16492\n",
      "Y value: 15071\n",
      "NN using normal KNN: 7\n",
      "NN using oose KNN: 7\n",
      "X value: 16662\n",
      "Y value: 17012\n",
      "NN using normal KNN: 7\n",
      "NN using oose KNN: 7\n"
     ]
    },
    {
     "name": "stderr",
     "output_type": "stream",
     "text": [
      "/home/taanish/trainer_library/Experiments/../manifoldlearning.py:177: RuntimeWarning: divide by zero encountered in reciprocal\n",
      "  d0 = np.array(np.reciprocal(W0.sum(-1))).squeeze()\n"
     ]
    },
    {
     "name": "stdout",
     "output_type": "stream",
     "text": [
      "img ind 16681\n",
      "Label of image: 3\n",
      "X value: 3945\n",
      "Y value: 5509\n",
      "NN using normal KNN: 3\n",
      "NN using oose KNN: 3\n",
      "X value: 6199\n",
      "Y value: 8926\n",
      "NN using normal KNN: 3\n",
      "NN using oose KNN: 3\n",
      "X value: 8480\n",
      "Y value: 9399\n",
      "NN using normal KNN: 3\n",
      "NN using oose KNN: 3\n",
      "X value: 8926\n",
      "Y value: 10011\n",
      "NN using normal KNN: 3\n",
      "NN using oose KNN: 3\n",
      "X value: 9151\n",
      "Y value: 10028\n",
      "NN using normal KNN: 3\n",
      "NN using oose KNN: 3\n",
      "X value: 9399\n",
      "Y value: 11705\n",
      "NN using normal KNN: 3\n",
      "NN using oose KNN: 3\n",
      "X value: 12258\n",
      "Y value: 14867\n",
      "NN using normal KNN: 3\n",
      "NN using oose KNN: 3\n",
      "X value: 15147\n",
      "Y value: 17541\n",
      "NN using normal KNN: 3\n",
      "NN using oose KNN: 3\n",
      "X value: 17203\n",
      "Y value: 17751\n",
      "NN using normal KNN: 3\n",
      "NN using oose KNN: 3\n",
      "X value: 17693\n",
      "Y value: 17973\n",
      "NN using normal KNN: 3\n",
      "NN using oose KNN: 3\n"
     ]
    }
   ],
   "source": [
    "c_scs_orig_20 = []\n",
    "c_scs_knn_20 = []\n",
    "for i in range(5):\n",
    "    orig_s, knn_s = knn.compare_distributions(k_20k,labels_20k)\n",
    "    c_scs_orig_20.append(orig_s)\n",
    "    c_scs_knn_20.append(knn_s)"
   ]
  },
  {
   "cell_type": "code",
   "execution_count": 40,
   "metadata": {},
   "outputs": [
    {
     "data": {
      "text/plain": [
       "0.8200000000000001"
      ]
     },
     "execution_count": 40,
     "metadata": {},
     "output_type": "execute_result"
    }
   ],
   "source": [
    "np.mean(c_scs_orig_20)"
   ]
  },
  {
   "cell_type": "code",
   "execution_count": 41,
   "metadata": {},
   "outputs": [
    {
     "data": {
      "text/plain": [
       "0.82"
      ]
     },
     "execution_count": 41,
     "metadata": {},
     "output_type": "execute_result"
    }
   ],
   "source": [
    "np.mean(c_scs_knn_20)"
   ]
  },
  {
   "cell_type": "code",
   "execution_count": null,
   "metadata": {},
   "outputs": [],
   "source": []
  }
 ],
 "metadata": {
  "kernelspec": {
   "display_name": "manifold-learning",
   "language": "python",
   "name": "manifold-learning"
  },
  "language_info": {
   "codemirror_mode": {
    "name": "ipython",
    "version": 3
   },
   "file_extension": ".py",
   "mimetype": "text/x-python",
   "name": "python",
   "nbconvert_exporter": "python",
   "pygments_lexer": "ipython3",
   "version": "3.12.3"
  }
 },
 "nbformat": 4,
 "nbformat_minor": 2
}
